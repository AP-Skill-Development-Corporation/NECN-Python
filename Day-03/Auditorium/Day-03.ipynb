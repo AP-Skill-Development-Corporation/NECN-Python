{
 "cells": [
  {
   "cell_type": "markdown",
   "id": "8eda5818",
   "metadata": {},
   "source": [
    "## Operators\n",
    "    - Arithmetic -> +,-,*,/,//,**\n",
    "    - Relational -> >,<,>=,<=,!=,==\n",
    "    - Bitwise -> &,|,~,>>,<<\n",
    "    - Logical -> AND,OR,NOT\n",
    "    - Assignment -> +=,-=,*=,/=,//=\n",
    "    - Identity -> is,is not\n",
    "    - Membership -> in,not in"
   ]
  },
  {
   "cell_type": "markdown",
   "id": "2da2db29",
   "metadata": {},
   "source": [
    "## Input():\n",
    "    - To read the values from user\n",
    "    - It acts like print statement\n",
    "    - By Default it stores the string data type"
   ]
  },
  {
   "cell_type": "code",
   "execution_count": 2,
   "id": "bf60c9ec",
   "metadata": {},
   "outputs": [
    {
     "name": "stdout",
     "output_type": "stream",
     "text": [
      "Enter a value: raju\n",
      "raju <class 'str'>\n"
     ]
    }
   ],
   "source": [
    "h = input(\"Enter a value: \")\n",
    "print(h,type(h))"
   ]
  },
  {
   "cell_type": "markdown",
   "id": "230b0ffe",
   "metadata": {},
   "source": [
    "## Typecasting:\n",
    "    - int()\n",
    "    - float()\n",
    "    - str()\n",
    "    - [All data structures]"
   ]
  },
  {
   "cell_type": "markdown",
   "id": "fc90d07c",
   "metadata": {},
   "source": [
    "## Output Formatting:\n",
    "    - %\n",
    "    - ,\n",
    "    - .format"
   ]
  },
  {
   "cell_type": "code",
   "execution_count": 9,
   "id": "4e15d004",
   "metadata": {},
   "outputs": [
    {
     "name": "stdout",
     "output_type": "stream",
     "text": [
      "Enter a value: 2\n",
      "Enter b value: 8\n",
      "Addition of 2 and 8 is:  10\n",
      "Substration of 2 and 8 is: -6\n"
     ]
    }
   ],
   "source": [
    "j = input(\"Enter a value: \")\n",
    "k = input(\"Enter b value: \")\n",
    "print(\"Addition of\",j,\"and\",k,\"is: \",int(j)+int(k))\n",
    "print(\"Substration of %d and %d is: %d\"%(int(j),int(k),int(j)-int(k)))"
   ]
  },
  {
   "cell_type": "code",
   "execution_count": 10,
   "id": "2d962502",
   "metadata": {},
   "outputs": [
    {
     "name": "stdout",
     "output_type": "stream",
     "text": [
      "<class 'str'> <class 'str'>\n"
     ]
    }
   ],
   "source": [
    "print(type(j),type(k))"
   ]
  },
  {
   "cell_type": "code",
   "execution_count": 12,
   "id": "b4de7f0e",
   "metadata": {},
   "outputs": [
    {
     "name": "stdout",
     "output_type": "stream",
     "text": [
      "5\n",
      "6\n",
      "96\n",
      "5 <class 'int'> 6.0 <class 'float'> 96 <class 'str'>\n"
     ]
    }
   ],
   "source": [
    "m,p,n = int(input()),float(input()),input()\n",
    "print(m,type(m),p,type(p),n,type(n))"
   ]
  },
  {
   "cell_type": "code",
   "execution_count": 17,
   "id": "968cfc17",
   "metadata": {},
   "outputs": [
    {
     "name": "stdout",
     "output_type": "stream",
     "text": [
      "Enter a number: 2\n",
      "Enter a float number: 8\n",
      "Division of 2 and 8.0 is: 0.25\n",
      "Division of 8.0 and 2 is: 0.0\n"
     ]
    }
   ],
   "source": [
    "k = int(input(\"Enter a number: \"))\n",
    "m = float(input(\"Enter a float number: \"))\n",
    "print(\"Division of {} and {} is: {}\".format(k,m,k/m))\n",
    "print(\"Division of {1} and {0} is: {2}\".format(k,m,k//m))"
   ]
  },
  {
   "cell_type": "markdown",
   "id": "51012bb2",
   "metadata": {},
   "source": [
    "## Conditional Statements:\n",
    "    - To Check whether a given condition is either True or False\n",
    "    - if\n",
    "    - if-else\n",
    "    - elif\n",
    "    - nested if"
   ]
  },
  {
   "cell_type": "markdown",
   "id": "314bb47f",
   "metadata": {},
   "source": [
    "### If\n",
    "    - For single case\n",
    "    Syntax:\n",
    "        if (condition):\n",
    "            //stmnts"
   ]
  },
  {
   "cell_type": "code",
   "execution_count": 20,
   "id": "ab6640b3",
   "metadata": {},
   "outputs": [
    {
     "name": "stdout",
     "output_type": "stream",
     "text": [
      "Enter a number: 5\n",
      "Given number 5 is equal to 5\n"
     ]
    }
   ],
   "source": [
    "n = int(input(\"Enter a number: \"))\n",
    "if n == 5:\n",
    "    print(\"Given number {} is equal to 5\".format(n))"
   ]
  },
  {
   "cell_type": "code",
   "execution_count": 23,
   "id": "0bc3eb64",
   "metadata": {},
   "outputs": [
    {
     "name": "stdout",
     "output_type": "stream",
     "text": [
      "Enter a value: ramu\n",
      "Given string ramu is not equal to r\n"
     ]
    }
   ],
   "source": [
    "m = input(\"Enter a value: \")\n",
    "if m != \"r\":\n",
    "    print(\"Given string {} is not equal to r\".format(m))"
   ]
  },
  {
   "cell_type": "markdown",
   "id": "cb67f958",
   "metadata": {},
   "source": [
    "## If-else\n",
    "    - Only Two cases\n",
    "    Syntax:\n",
    "        if (condition):\n",
    "            //stmnts\n",
    "        else:\n",
    "            //stmnts"
   ]
  },
  {
   "cell_type": "code",
   "execution_count": 24,
   "id": "c6f54735",
   "metadata": {},
   "outputs": [
    {
     "name": "stdout",
     "output_type": "stream",
     "text": [
      "Enter Your age: 21\n",
      "Entered Age is: 21 you are eligible for voting\n"
     ]
    }
   ],
   "source": [
    "k = int(input(\"Enter Your age: \"))\n",
    "if k >=18:\n",
    "    print(\"Entered Age is: {} you are eligible for voting\"\n",
    "          .format(k))\n",
    "else:\n",
    "    print(\"Entered Age is: {} You are not Eligible for Voting\"\n",
    "          .format(k))"
   ]
  },
  {
   "cell_type": "markdown",
   "id": "9ef3fb02",
   "metadata": {},
   "source": [
    "```\n",
    "Input: \n",
    "    16\n",
    "Output:    \n",
    "    Entered Age is: 16 You are not eligible for voting still you need to wait for 2 years\n",
    "\n",
    "Input:\n",
    "    20\n",
    "Output:\n",
    "    Entered age is: 20 You are Eligible for voting and have been voting for 2 years.\n",
    "```"
   ]
  },
  {
   "cell_type": "code",
   "execution_count": 27,
   "id": "0d0a24de",
   "metadata": {},
   "outputs": [
    {
     "name": "stdout",
     "output_type": "stream",
     "text": [
      "70\n",
      "Entered Age is: 70 You are Eligible for voting and have been voting for 52 years\n"
     ]
    }
   ],
   "source": [
    "k = int(input())\n",
    "if k>=18:\n",
    "    print(\"Entered Age is: {} You are Eligible for voting and have been voting for {} years\".format(k,k-18))\n",
    "else:\n",
    "    print(\"Entered Age is: {} You are not Eligible for voting you need to wait for {} years\".format(k,18-k))"
   ]
  },
  {
   "cell_type": "markdown",
   "id": "b079c21c",
   "metadata": {},
   "source": [
    "## elif:\n",
    "    - Two or more cases\n",
    "    Syntax:\n",
    "    if (condition-1):\n",
    "        //stmnt-1\n",
    "    elif (condition-2):\n",
    "        //stmnt-2\n",
    "         |       |\n",
    "    elif (condition-n):\n",
    "        //stmnt-n\n",
    "    else:\n",
    "        //stnt-(n-1)"
   ]
  },
  {
   "cell_type": "code",
   "execution_count": 32,
   "id": "cefcda15",
   "metadata": {},
   "outputs": [
    {
     "name": "stdout",
     "output_type": "stream",
     "text": [
      "0\n",
      "Entered Age is: 0 You are not Eligible for voting you need to wait for 18 years\n"
     ]
    }
   ],
   "source": [
    "k = int(input())\n",
    "if k>18:\n",
    "    print(\"Entered Age is: {} You are Eligible for voting and have been voting for {} years\".format(k,k-18))\n",
    "elif k<18:\n",
    "    print(\"Entered Age is: {} You are not Eligible for voting you need to wait for {} years\".format(k,18-k))\n",
    "else:\n",
    "    print(\"Entered Age is: {} You are Eligible for voting and have been voting for {} years\".format(k,k-18))"
   ]
  },
  {
   "cell_type": "code",
   "execution_count": 50,
   "id": "3ae42e0e",
   "metadata": {},
   "outputs": [
    {
     "name": "stdout",
     "output_type": "stream",
     "text": [
      "Enter a number: 1\n",
      "Given number is: 1\n"
     ]
    }
   ],
   "source": [
    "m = int(input(\"Enter a number: \"))\n",
    "if m%3==0:\n",
    "    print(\"Given number {} is divisible by 3\".format(m))\n",
    "elif m%2 == 0:\n",
    "    print(\"Given number {} is Even\".format(m))\n",
    "elif m%7 == 0:\n",
    "    print(\"Given number {} is divisible by 7\".format(m))\n",
    "elif m==9:\n",
    "    print(\"Given number {} is not equal to 9\".format(m))\n",
    "else:\n",
    "    print(\"Given number is: {}\".format(m))"
   ]
  },
  {
   "cell_type": "markdown",
   "id": "18948925",
   "metadata": {},
   "source": [
    "## Nested If:\n",
    "    - In this the condition will be based on the if and else and else will be in optional case\n",
    "    Syntax:\n",
    "    if condition-1:\n",
    "        if condition-2:\n",
    "            //stmnt-1\n",
    "        else:\n",
    "            //stmnt-2\n",
    "    else:\n",
    "        //stmnt-3"
   ]
  },
  {
   "cell_type": "code",
   "execution_count": 53,
   "id": "d31e9c0e",
   "metadata": {},
   "outputs": [
    {
     "name": "stdout",
     "output_type": "stream",
     "text": [
      "Enter your emailid: ramu@gmail.com\n",
      "Enter your password: 123\n",
      "Welcme User: ramu@gmail.com\n"
     ]
    }
   ],
   "source": [
    "useremail = input(\"Enter your emailid: \")\n",
    "password = input(\"Enter your password: \")\n",
    "if useremail == \"ramu@gmail.com\" and password==\"123\":\n",
    "    print(\"Welcome User: {}\".format(useremail))\n",
    "else:\n",
    "    print(\"Entered Invalid Useremail/Password\")"
   ]
  },
  {
   "cell_type": "code",
   "execution_count": 56,
   "id": "222e4bb2",
   "metadata": {},
   "outputs": [
    {
     "name": "stdout",
     "output_type": "stream",
     "text": [
      "-----------Registration-----------\n",
      "Enter Email: ramu@gmail.com\n",
      "Enter Password: 123\n",
      "Registration Completed with useremail ramu@gmail.com\n",
      "---------Login Here----------\n",
      "Enter your emailid: ramu@gmail.com\n",
      "Enter your password: 123\n",
      "Welcme User: ramu@gmail.com\n"
     ]
    }
   ],
   "source": [
    "print(\"-----------Registration-----------\")\n",
    "u = input(\"Enter Email: \")\n",
    "p = input(\"Enter Password: \")\n",
    "print(\"Registration Completed with useremail {}\".format(u))\n",
    "print(\"---------Login Here----------\")\n",
    "useremail = input(\"Enter your emailid: \")\n",
    "password = input(\"Enter your password: \")\n",
    "if useremail == u and password == p:\n",
    "    print(\"Welcme User: {}\".format(useremail))\n",
    "else:\n",
    "    print(\"Invalid Useremail/Password\")"
   ]
  },
  {
   "cell_type": "code",
   "execution_count": 60,
   "id": "80450caa",
   "metadata": {},
   "outputs": [
    {
     "name": "stdout",
     "output_type": "stream",
     "text": [
      "-----------Registration-----------\n",
      "Enter Email: ramu123@yahoo.in\n",
      "Enter Password: 0000\n",
      "Registration Completed with useremail ramu123@yahoo.in\n",
      "---------Login Here----------\n",
      "Enter Email: ramu123@yahoo.in\n",
      "Enter Password0000\n",
      "Welcome User ramu123@yahoo.in\n"
     ]
    }
   ],
   "source": [
    "print(\"-----------Registration-----------\")\n",
    "u = input(\"Enter Email: \")\n",
    "p = input(\"Enter Password: \")\n",
    "print(\"Registration Completed with useremail {}\".format(u))\n",
    "print(\"---------Login Here----------\")\n",
    "us = input(\"Enter Email: \")\n",
    "if us == u:\n",
    "    ps = input(\"Enter Password\")\n",
    "    if ps == p:\n",
    "        print(\"Welcome User {}\".format(us))\n",
    "    else:\n",
    "        print(\"Invalid Password\")\n",
    "else:\n",
    "    print(\"Entered email {} is invalid\".format(us))"
   ]
  },
  {
   "cell_type": "code",
   "execution_count": null,
   "id": "b3dff6ea",
   "metadata": {},
   "outputs": [],
   "source": [
    "n= int(input())\n",
    "if n%2!=0:\n",
    "    print(\"Weird\")\n",
    "elif (n%2==0 and (n==2 or n==4)):\n",
    "    print(\"Not Weird\")\n",
    "elif (n%2==0 and (n>=6 and n<=20)):\n",
    "    print(\"Weird\"):\n",
    "else:\n",
    "    print(\"Not Weird\")"
   ]
  },
  {
   "cell_type": "markdown",
   "id": "28dd475c",
   "metadata": {},
   "source": [
    "## Loops or Iterations or Repititors or Control Statements:\n",
    "    - To control the flow of execution\n",
    "    - for -> For Particular range \n",
    "    - while -> For unknown range"
   ]
  },
  {
   "cell_type": "markdown",
   "id": "e7a56ff5",
   "metadata": {},
   "source": [
    "## for:\n",
    "    Syntax:\n",
    "        for iteration_variablename in iterator:\n",
    "            //stmnts\n",
    "                        or\n",
    "        for iteration_variablename in range():\n",
    "            //stmnts"
   ]
  },
  {
   "cell_type": "markdown",
   "id": "850dcd44",
   "metadata": {},
   "source": [
    "## range():\n",
    "    - range(end):\n",
    "        -> By default it starts from 0 and ends at end-1\n",
    "    - range(start,end):\n",
    "        -> It starts from exactly at start value and ends at end-1\n",
    "    - range(start,end,step):\n",
    "        -> It starts from exactly at start value and ends at end-1 with step values"
   ]
  },
  {
   "cell_type": "code",
   "execution_count": 68,
   "id": "6c2b2e7e",
   "metadata": {},
   "outputs": [
    {
     "name": "stdout",
     "output_type": "stream",
     "text": [
      "Enter ending range: 23\n",
      "0,1,2,3,4,5,6,7,8,9,10,11,12,13,14,15,16,17,18,19,20,21,22,"
     ]
    }
   ],
   "source": [
    "j = int(input(\"Enter ending range: \"))\n",
    "for itr in range(j):\n",
    "    print(itr,end=\" \")"
   ]
  },
  {
   "cell_type": "code",
   "execution_count": null,
   "id": "b1a85466",
   "metadata": {},
   "outputs": [],
   "source": [
    "1811A0400\n",
    "| | |  |\n",
    "1811A0409\n",
    "1811A0410"
   ]
  },
  {
   "cell_type": "code",
   "execution_count": 69,
   "id": "32082a85",
   "metadata": {},
   "outputs": [
    {
     "name": "stdout",
     "output_type": "stream",
     "text": [
      "11\n",
      "1811A0400\n",
      "1811A0401\n",
      "1811A0402\n",
      "1811A0403\n",
      "1811A0404\n",
      "1811A0405\n",
      "1811A0406\n",
      "1811A0407\n",
      "1811A0408\n",
      "1811A0409\n",
      "1811A0410\n"
     ]
    }
   ],
   "source": [
    "n = int(input())\n",
    "for j in range(n):\n",
    "    if j > 9:\n",
    "        print(\"1811A04\"+str(j))\n",
    "    else:\n",
    "        print(\"1811A040\"+str(j))"
   ]
  },
  {
   "cell_type": "code",
   "execution_count": 72,
   "id": "19232ed1",
   "metadata": {},
   "outputs": [
    {
     "name": "stdout",
     "output_type": "stream",
     "text": [
      "20\n",
      "1811A0400\n",
      "1811A0401\n",
      "1811A0402\n",
      "1811A0403\n",
      "1811A0404\n",
      "1811A0405\n",
      "1811A0406\n",
      "1811A0407\n",
      "1811A0408\n",
      "1811A0409\n",
      "1811A0410\n",
      "1811A0411\n",
      "1811A0412\n",
      "1811A0413\n",
      "1811A0414\n",
      "1811A0415\n",
      "1811A0416\n",
      "1811A0417\n",
      "1811A0418\n",
      "1811A0419\n"
     ]
    }
   ],
   "source": [
    "k = int(input())\n",
    "for t in range(k):\n",
    "    print(\"1811A04{:02}\".format(t))"
   ]
  },
  {
   "cell_type": "code",
   "execution_count": 74,
   "id": "6fdb79b0",
   "metadata": {},
   "outputs": [
    {
     "name": "stdout",
     "output_type": "stream",
     "text": [
      "Enter a starting Range: 100\n",
      "Enter an Ending Range: 150\n",
      "100 101 102 103 104 105 106 107 108 109 110 111 112 113 114 115 116 117 118 119 120 121 122 123 124 125 126 127 128 129 130 131 132 133 134 135 136 137 138 139 140 141 142 143 144 145 146 147 148 149 "
     ]
    }
   ],
   "source": [
    "st = int(input(\"Enter a starting Range: \"))\n",
    "en = int(input(\"Enter an Ending Range: \"))\n",
    "for i in range(st,en):\n",
    "    print(i,end=\" \")"
   ]
  },
  {
   "cell_type": "code",
   "execution_count": 75,
   "id": "e0a76f18",
   "metadata": {},
   "outputs": [
    {
     "name": "stdout",
     "output_type": "stream",
     "text": [
      "Enter a starting Range: 20\n",
      "Enter an Ending Range: 31\n",
      "20 22 24 26 28 30 "
     ]
    }
   ],
   "source": [
    "st = int(input(\"Enter a starting Range: \"))\n",
    "en = int(input(\"Enter an Ending Range: \"))\n",
    "for i in range(st,en):\n",
    "    if i%2==0:\n",
    "        print(i,end=\" \")"
   ]
  },
  {
   "cell_type": "code",
   "execution_count": null,
   "id": "1342ed6e",
   "metadata": {},
   "outputs": [],
   "source": []
  }
 ],
 "metadata": {
  "kernelspec": {
   "display_name": "Python 3",
   "language": "python",
   "name": "python3"
  },
  "language_info": {
   "codemirror_mode": {
    "name": "ipython",
    "version": 3
   },
   "file_extension": ".py",
   "mimetype": "text/x-python",
   "name": "python",
   "nbconvert_exporter": "python",
   "pygments_lexer": "ipython3",
   "version": "3.7.5"
  }
 },
 "nbformat": 4,
 "nbformat_minor": 5
}

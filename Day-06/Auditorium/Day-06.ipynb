{
 "cells": [
  {
   "cell_type": "markdown",
   "id": "d0affa49",
   "metadata": {},
   "source": [
    "## Comprehensions:\n",
    "    -> To reduce the number of lines of code and to change the data type\n",
    "    -> []\n",
    "    -> ()\n",
    "    -> set {}\n",
    "    -> Dictionary => {'key':value}"
   ]
  },
  {
   "cell_type": "code",
   "execution_count": 1,
   "id": "7a3330b3",
   "metadata": {},
   "outputs": [
    {
     "name": "stdout",
     "output_type": "stream",
     "text": [
      "12 45 78 98\n",
      "12 45 78 98 "
     ]
    }
   ],
   "source": [
    "k = input().split()\n",
    "\n",
    "for t in k:\n",
    "    print(t,end=\" \")"
   ]
  },
  {
   "cell_type": "code",
   "execution_count": 11,
   "id": "fc15f805",
   "metadata": {},
   "outputs": [
    {
     "name": "stdout",
     "output_type": "stream",
     "text": [
      "45 7 8 9\n"
     ]
    }
   ],
   "source": [
    "y = [int(i) for i in input().split()]"
   ]
  },
  {
   "cell_type": "code",
   "execution_count": 12,
   "id": "a920218b",
   "metadata": {},
   "outputs": [
    {
     "name": "stdout",
     "output_type": "stream",
     "text": [
      "[45, 7, 8, 9] <class 'list'>\n"
     ]
    }
   ],
   "source": [
    "print(y,type(y))"
   ]
  },
  {
   "cell_type": "code",
   "execution_count": 15,
   "id": "0073aacd",
   "metadata": {},
   "outputs": [
    {
     "name": "stdout",
     "output_type": "stream",
     "text": [
      "3 2 4 6 5 7\n",
      "[2, 4, 6]\n"
     ]
    }
   ],
   "source": [
    "y=[int(i) for i in input().split() if int(i)%2==0]\n",
    "print(y)"
   ]
  },
  {
   "cell_type": "code",
   "execution_count": 21,
   "id": "47154b3a",
   "metadata": {},
   "outputs": [
    {
     "name": "stdout",
     "output_type": "stream",
     "text": [
      "12 9 6 8 7 5 896\n"
     ]
    }
   ],
   "source": [
    "elist,olist = [],[]\n",
    "u = [elist.append(int(i)) if int(i)%2==0 else olist.append(int(i)) for i in input().split()]"
   ]
  },
  {
   "cell_type": "code",
   "execution_count": 22,
   "id": "7b7b1b98",
   "metadata": {},
   "outputs": [
    {
     "name": "stdout",
     "output_type": "stream",
     "text": [
      "[12, 6, 8, 896]\n",
      "[9, 7, 5]\n"
     ]
    }
   ],
   "source": [
    "print(elist)\n",
    "print(olist)"
   ]
  },
  {
   "cell_type": "code",
   "execution_count": 24,
   "id": "d1d5f862",
   "metadata": {},
   "outputs": [
    {
     "name": "stdout",
     "output_type": "stream",
     "text": [
      "23 45 896\n",
      "<generator object <genexpr> at 0x00000228A8A03F48> <class 'generator'>\n"
     ]
    }
   ],
   "source": [
    "u = (i for i in input().split())\n",
    "print(u,type(u))"
   ]
  },
  {
   "cell_type": "code",
   "execution_count": 25,
   "id": "fc9b6030",
   "metadata": {},
   "outputs": [
    {
     "name": "stdout",
     "output_type": "stream",
     "text": [
      "[12, 6, 8, 896]\n"
     ]
    }
   ],
   "source": [
    "print(elist)"
   ]
  },
  {
   "cell_type": "code",
   "execution_count": 31,
   "id": "8ed61b88",
   "metadata": {},
   "outputs": [
    {
     "name": "stdout",
     "output_type": "stream",
     "text": [
      "12\n",
      "6\n"
     ]
    }
   ],
   "source": [
    "k = iter(elist)\n",
    "print(next(k))\n",
    "print(next(k))"
   ]
  },
  {
   "cell_type": "code",
   "execution_count": 34,
   "id": "b894096e",
   "metadata": {},
   "outputs": [
    {
     "name": "stdout",
     "output_type": "stream",
     "text": [
      "12 45 6\n",
      "12\n"
     ]
    }
   ],
   "source": [
    "k = [int(j) for j in input().split()]\n",
    "h = iter(k)\n",
    "print(next(h))"
   ]
  },
  {
   "cell_type": "code",
   "execution_count": 36,
   "id": "18b3ae24",
   "metadata": {},
   "outputs": [
    {
     "name": "stdout",
     "output_type": "stream",
     "text": [
      "12\n",
      "45\n"
     ]
    }
   ],
   "source": [
    "h = iter(k)\n",
    "print(next(h))\n",
    "print(next(h))"
   ]
  },
  {
   "cell_type": "code",
   "execution_count": 39,
   "id": "23dbc567",
   "metadata": {},
   "outputs": [
    {
     "name": "stdout",
     "output_type": "stream",
     "text": [
      "first execution \n"
     ]
    }
   ],
   "source": [
    "def printnum():\n",
    "    yield \"first execution \" \n",
    "    yield \"Second execution\"\n",
    "\n",
    "f = printnum()\n",
    "print(next(f))"
   ]
  },
  {
   "cell_type": "code",
   "execution_count": 41,
   "id": "d4cb1c05",
   "metadata": {},
   "outputs": [
    {
     "ename": "StopIteration",
     "evalue": "",
     "output_type": "error",
     "traceback": [
      "\u001b[1;31m---------------------------------------------------------------------------\u001b[0m",
      "\u001b[1;31mStopIteration\u001b[0m                             Traceback (most recent call last)",
      "\u001b[1;32m<ipython-input-41-476d6081df2c>\u001b[0m in \u001b[0;36m<module>\u001b[1;34m\u001b[0m\n\u001b[1;32m----> 1\u001b[1;33m \u001b[0mprint\u001b[0m\u001b[1;33m(\u001b[0m\u001b[0mnext\u001b[0m\u001b[1;33m(\u001b[0m\u001b[0mf\u001b[0m\u001b[1;33m)\u001b[0m\u001b[1;33m)\u001b[0m\u001b[1;33m\u001b[0m\u001b[1;33m\u001b[0m\u001b[0m\n\u001b[0m",
      "\u001b[1;31mStopIteration\u001b[0m: "
     ]
    }
   ],
   "source": [
    "print(next(f))"
   ]
  },
  {
   "cell_type": "code",
   "execution_count": 42,
   "id": "17db96e7",
   "metadata": {},
   "outputs": [
    {
     "name": "stdout",
     "output_type": "stream",
     "text": [
      "12 4 5 6 \n",
      "<generator object <genexpr> at 0x00000228A8B9D148> <class 'generator'>\n"
     ]
    }
   ],
   "source": [
    "j = (i for i in input().split() if int(i)%2!=0)\n",
    "print(j,type(j))"
   ]
  },
  {
   "cell_type": "code",
   "execution_count": 43,
   "id": "bda93cea",
   "metadata": {},
   "outputs": [
    {
     "name": "stdout",
     "output_type": "stream",
     "text": [
      "1 1 1 1 11 45 6 9 7 \n",
      "{'9', '7', '1', '6', '11', '45'} <class 'set'>\n"
     ]
    }
   ],
   "source": [
    "k = {i for i in input().split()}\n",
    "print(k,type(k))"
   ]
  },
  {
   "cell_type": "code",
   "execution_count": 45,
   "id": "6fce1320",
   "metadata": {},
   "outputs": [
    {
     "name": "stdout",
     "output_type": "stream",
     "text": [
      "2 8 9\n",
      "{'2': 4, '8': 64, '9': 81} <class 'dict'>\n"
     ]
    }
   ],
   "source": [
    "u = {i:int(i)**2 for i in input().split()}\n",
    "print(u,type(u))"
   ]
  },
  {
   "cell_type": "markdown",
   "id": "c0fb0ada",
   "metadata": {},
   "source": [
    "## Functioanl Programming:\n",
    "    - map\n",
    "    - filter\n",
    "    - reduce\n",
    "    - lambda"
   ]
  },
  {
   "cell_type": "markdown",
   "id": "f58353cd",
   "metadata": {},
   "source": [
    "## map\n",
    "    -> To convert the data type elements of an iterator\n",
    "    -> Based on function it will checks the iterator\n",
    "    \n",
    "    Syntax:\n",
    "        map(datatype,iterator)\n",
    "        \n",
    "        map(function,iterator)"
   ]
  },
  {
   "cell_type": "code",
   "execution_count": 50,
   "id": "d91cde29",
   "metadata": {},
   "outputs": [
    {
     "name": "stdout",
     "output_type": "stream",
     "text": [
      "1 5 78\n",
      "[1, 5, 78]\n"
     ]
    }
   ],
   "source": [
    "n = list(map(int,input().split()))\n",
    "print(n)"
   ]
  },
  {
   "cell_type": "code",
   "execution_count": 52,
   "id": "63a528b8",
   "metadata": {},
   "outputs": [],
   "source": [
    "def evn(i):\n",
    "    if i%2==0:\n",
    "        return i"
   ]
  },
  {
   "cell_type": "code",
   "execution_count": 53,
   "id": "de819217",
   "metadata": {},
   "outputs": [
    {
     "name": "stdout",
     "output_type": "stream",
     "text": [
      "1 8 9\n",
      "[None, 8, None]\n"
     ]
    }
   ],
   "source": [
    "p = list(map(int,input().split()))\n",
    "y = list(map(evn,p))\n",
    "print(y)"
   ]
  },
  {
   "cell_type": "code",
   "execution_count": 56,
   "id": "c99fae0a",
   "metadata": {},
   "outputs": [
    {
     "name": "stdout",
     "output_type": "stream",
     "text": [
      "[None, 8, None]\n"
     ]
    }
   ],
   "source": [
    "k = list(map(evn,p))\n",
    "print(k)"
   ]
  },
  {
   "cell_type": "markdown",
   "id": "02473acb",
   "metadata": {},
   "source": [
    "## Lambda[Anoymous Function]\n",
    "    Syntax:\n",
    "        lambda arguments:expressions\n",
    "        "
   ]
  },
  {
   "cell_type": "code",
   "execution_count": 58,
   "id": "f6920a7b",
   "metadata": {},
   "outputs": [
    {
     "name": "stdout",
     "output_type": "stream",
     "text": [
      "2\n"
     ]
    }
   ],
   "source": [
    "s = lambda e:e\n",
    "print(s(2))"
   ]
  },
  {
   "cell_type": "code",
   "execution_count": 61,
   "id": "46ac63a6",
   "metadata": {},
   "outputs": [
    {
     "ename": "TypeError",
     "evalue": "'>' not supported between instances of 'list' and 'int'",
     "output_type": "error",
     "traceback": [
      "\u001b[1;31m---------------------------------------------------------------------------\u001b[0m",
      "\u001b[1;31mTypeError\u001b[0m                                 Traceback (most recent call last)",
      "\u001b[1;32m<ipython-input-61-1ff39749c98d>\u001b[0m in \u001b[0;36m<module>\u001b[1;34m\u001b[0m\n\u001b[0;32m      1\u001b[0m \u001b[0mf\u001b[0m \u001b[1;33m=\u001b[0m \u001b[1;32mlambda\u001b[0m \u001b[0mt\u001b[0m\u001b[1;33m:\u001b[0m\u001b[0mt\u001b[0m\u001b[1;33m>\u001b[0m\u001b[1;36m30\u001b[0m\u001b[1;33m\u001b[0m\u001b[1;33m\u001b[0m\u001b[0m\n\u001b[1;32m----> 2\u001b[1;33m \u001b[0mprint\u001b[0m\u001b[1;33m(\u001b[0m\u001b[0mf\u001b[0m\u001b[1;33m(\u001b[0m\u001b[1;33m[\u001b[0m\u001b[1;36m12\u001b[0m\u001b[1;33m,\u001b[0m\u001b[1;36m78\u001b[0m\u001b[1;33m,\u001b[0m\u001b[1;36m89\u001b[0m\u001b[1;33m,\u001b[0m\u001b[1;36m2\u001b[0m\u001b[1;33m,\u001b[0m\u001b[1;36m45\u001b[0m\u001b[1;33m]\u001b[0m\u001b[1;33m)\u001b[0m\u001b[1;33m)\u001b[0m\u001b[1;33m\u001b[0m\u001b[1;33m\u001b[0m\u001b[0m\n\u001b[0m",
      "\u001b[1;32m<ipython-input-61-1ff39749c98d>\u001b[0m in \u001b[0;36m<lambda>\u001b[1;34m(t)\u001b[0m\n\u001b[1;32m----> 1\u001b[1;33m \u001b[0mf\u001b[0m \u001b[1;33m=\u001b[0m \u001b[1;32mlambda\u001b[0m \u001b[0mt\u001b[0m\u001b[1;33m:\u001b[0m\u001b[0mt\u001b[0m\u001b[1;33m>\u001b[0m\u001b[1;36m30\u001b[0m\u001b[1;33m\u001b[0m\u001b[1;33m\u001b[0m\u001b[0m\n\u001b[0m\u001b[0;32m      2\u001b[0m \u001b[0mprint\u001b[0m\u001b[1;33m(\u001b[0m\u001b[0mf\u001b[0m\u001b[1;33m(\u001b[0m\u001b[1;33m[\u001b[0m\u001b[1;36m12\u001b[0m\u001b[1;33m,\u001b[0m\u001b[1;36m78\u001b[0m\u001b[1;33m,\u001b[0m\u001b[1;36m89\u001b[0m\u001b[1;33m,\u001b[0m\u001b[1;36m2\u001b[0m\u001b[1;33m,\u001b[0m\u001b[1;36m45\u001b[0m\u001b[1;33m]\u001b[0m\u001b[1;33m)\u001b[0m\u001b[1;33m)\u001b[0m\u001b[1;33m\u001b[0m\u001b[1;33m\u001b[0m\u001b[0m\n",
      "\u001b[1;31mTypeError\u001b[0m: '>' not supported between instances of 'list' and 'int'"
     ]
    }
   ],
   "source": [
    "f = lambda t:t>30\n",
    "print(f([12,78,89,2,45]))"
   ]
  },
  {
   "cell_type": "code",
   "execution_count": 63,
   "id": "d0b05e33",
   "metadata": {},
   "outputs": [
    {
     "name": "stdout",
     "output_type": "stream",
     "text": [
      "51 45 78 95\n",
      "[True, False, True, True]\n"
     ]
    }
   ],
   "source": [
    "y = list(map(lambda i:i>50,map(int,input().split())))\n",
    "print(y)"
   ]
  },
  {
   "cell_type": "code",
   "execution_count": 67,
   "id": "1659262a",
   "metadata": {},
   "outputs": [
    {
     "name": "stdout",
     "output_type": "stream",
     "text": [
      "78 5 9 63 5 2 23\n",
      "[None, None, None, None, None, None, None]\n",
      "[78, 63]\n",
      "[5, 9, 5, 2, 23]\n"
     ]
    }
   ],
   "source": [
    "elist,olist=[],[]\n",
    "y = list(map(lambda i:elist.append(i) if i>50 else olist.append(i),map(int,input().split())))\n",
    "print(y)\n",
    "print(elist)\n",
    "print(olist)"
   ]
  },
  {
   "cell_type": "markdown",
   "id": "abfc9d37",
   "metadata": {},
   "source": [
    "## Filter:\n",
    "    - It prints only True Values\n",
    "    Syntax:\n",
    "        filter(functionname,iterator)"
   ]
  },
  {
   "cell_type": "code",
   "execution_count": 70,
   "id": "343bbc45",
   "metadata": {},
   "outputs": [
    {
     "name": "stdout",
     "output_type": "stream",
     "text": [
      "12 26 30 89\n",
      "[False, True, True, True]\n"
     ]
    }
   ],
   "source": [
    "g = list(filter(lambda s:s<50,map(lambda t:t>20,map(int,input().split()))))\n",
    "print(g)"
   ]
  },
  {
   "cell_type": "code",
   "execution_count": 72,
   "id": "e6b8938a",
   "metadata": {},
   "outputs": [
    {
     "name": "stdout",
     "output_type": "stream",
     "text": [
      "12 26 30 89\n",
      "[12, 26, 30, 89]\n",
      "[26, 30, 89]\n",
      "[26, 30]\n"
     ]
    }
   ],
   "source": [
    "z = list(map(int,input().split()))\n",
    "print(z)\n",
    "y = list(filter(lambda t:t>20,z))\n",
    "print(y)\n",
    "s = list(filter(lambda e:e<50,y))\n",
    "print(s)"
   ]
  },
  {
   "cell_type": "code",
   "execution_count": 75,
   "id": "b5737c79",
   "metadata": {},
   "outputs": [
    {
     "name": "stdout",
     "output_type": "stream",
     "text": [
      "10 51 105 169\n",
      "[51]\n"
     ]
    }
   ],
   "source": [
    "h = list(filter(lambda d:d<100,filter(lambda r:r>50,map(int,input().split()))))\n",
    "print(h)"
   ]
  },
  {
   "cell_type": "markdown",
   "id": "831e7cee",
   "metadata": {},
   "source": [
    "## Reduce:\n",
    "    - It prints the final output\n",
    "    Syntax:\n",
    "        reduce(function,iterator)"
   ]
  },
  {
   "cell_type": "code",
   "execution_count": 76,
   "id": "c62fd2aa",
   "metadata": {},
   "outputs": [],
   "source": [
    "from functools import reduce"
   ]
  },
  {
   "cell_type": "code",
   "execution_count": 96,
   "id": "d661b334",
   "metadata": {},
   "outputs": [
    {
     "name": "stdout",
     "output_type": "stream",
     "text": [
      "22 29 26 56 78\n",
      "48\n"
     ]
    }
   ],
   "source": [
    "d = reduce(lambda n,m:n+m,filter(lambda t:t%2==0,filter(lambda q:q<30,filter(lambda e:e>20,map(int,input().split())))))\n",
    "print(d)"
   ]
  },
  {
   "cell_type": "code",
   "execution_count": 94,
   "id": "eb86bad7",
   "metadata": {},
   "outputs": [
    {
     "name": "stdout",
     "output_type": "stream",
     "text": [
      "26\n"
     ]
    }
   ],
   "source": [
    "k = reduce(lambda a,b:a+b,filter(lambda y:y%2==0,[20,45,6,3]))\n",
    "print(k)"
   ]
  },
  {
   "cell_type": "code",
   "execution_count": 92,
   "id": "01caad11",
   "metadata": {},
   "outputs": [
    {
     "name": "stdout",
     "output_type": "stream",
     "text": [
      "23\n"
     ]
    }
   ],
   "source": [
    "u = reduce(lambda a,b:a+b,[20,3])\n",
    "print(u)"
   ]
  },
  {
   "cell_type": "markdown",
   "id": "6268312c",
   "metadata": {},
   "source": [
    "## Packages and Modules:\n",
    "    Packages:\n",
    "        -> Similar like folder or sub folders\n",
    "    SubPackage:\n",
    "        -> package within package\n",
    "    Module:\n",
    "        -> Similar to a file with extension\n",
    "        -> here we need to say modules as .py files only"
   ]
  },
  {
   "cell_type": "code",
   "execution_count": 97,
   "id": "15129a75",
   "metadata": {},
   "outputs": [],
   "source": [
    "import random"
   ]
  },
  {
   "cell_type": "code",
   "execution_count": 98,
   "id": "a52eafe1",
   "metadata": {},
   "outputs": [
    {
     "name": "stdout",
     "output_type": "stream",
     "text": [
      "0.9477737535396615\n"
     ]
    }
   ],
   "source": [
    "print(random.random())"
   ]
  },
  {
   "cell_type": "code",
   "execution_count": 99,
   "id": "157edc3d",
   "metadata": {},
   "outputs": [
    {
     "name": "stdout",
     "output_type": "stream",
     "text": [
      "39\n"
     ]
    }
   ],
   "source": [
    "print(random.randint(20,50))"
   ]
  },
  {
   "cell_type": "code",
   "execution_count": 103,
   "id": "f76da643",
   "metadata": {},
   "outputs": [],
   "source": [
    "# from packagename import modulename\n",
    "from NEC import sample"
   ]
  },
  {
   "cell_type": "code",
   "execution_count": 101,
   "id": "17ac528a",
   "metadata": {},
   "outputs": [
    {
     "data": {
      "text/plain": [
       "20"
      ]
     },
     "execution_count": 101,
     "metadata": {},
     "output_type": "execute_result"
    }
   ],
   "source": [
    "sample.a"
   ]
  },
  {
   "cell_type": "code",
   "execution_count": 102,
   "id": "a8134acb",
   "metadata": {},
   "outputs": [
    {
     "data": {
      "text/plain": [
       "9"
      ]
     },
     "execution_count": 102,
     "metadata": {},
     "output_type": "execute_result"
    }
   ],
   "source": [
    "sample.sum(2,7)"
   ]
  },
  {
   "cell_type": "code",
   "execution_count": 104,
   "id": "a439b360",
   "metadata": {},
   "outputs": [],
   "source": [
    "# from package.module import function\n",
    "from NEC.sample import sum"
   ]
  },
  {
   "cell_type": "code",
   "execution_count": 105,
   "id": "b5fe8a0d",
   "metadata": {},
   "outputs": [
    {
     "data": {
      "text/plain": [
       "5"
      ]
     },
     "execution_count": 105,
     "metadata": {},
     "output_type": "execute_result"
    }
   ],
   "source": [
    "sum(3,2)"
   ]
  },
  {
   "cell_type": "code",
   "execution_count": 106,
   "id": "f7b8c664",
   "metadata": {},
   "outputs": [],
   "source": [
    "# import modulename\n",
    "import demo"
   ]
  },
  {
   "cell_type": "code",
   "execution_count": 107,
   "id": "2a432b6a",
   "metadata": {},
   "outputs": [
    {
     "data": {
      "text/plain": [
       "'ramu'"
      ]
     },
     "execution_count": 107,
     "metadata": {},
     "output_type": "execute_result"
    }
   ],
   "source": [
    "demo.b"
   ]
  },
  {
   "cell_type": "code",
   "execution_count": 113,
   "id": "2f33aa3b",
   "metadata": {},
   "outputs": [],
   "source": [
    "import math"
   ]
  },
  {
   "cell_type": "code",
   "execution_count": 114,
   "id": "3c9ddfc8",
   "metadata": {},
   "outputs": [
    {
     "name": "stdout",
     "output_type": "stream",
     "text": [
      "['__doc__', '__loader__', '__name__', '__package__', '__spec__', 'acos', 'acosh', 'asin', 'asinh', 'atan', 'atan2', 'atanh', 'ceil', 'copysign', 'cos', 'cosh', 'degrees', 'e', 'erf', 'erfc', 'exp', 'expm1', 'fabs', 'factorial', 'floor', 'fmod', 'frexp', 'fsum', 'gamma', 'gcd', 'hypot', 'inf', 'isclose', 'isfinite', 'isinf', 'isnan', 'ldexp', 'lgamma', 'log', 'log10', 'log1p', 'log2', 'modf', 'nan', 'pi', 'pow', 'radians', 'remainder', 'sin', 'sinh', 'sqrt', 'tan', 'tanh', 'tau', 'trunc']\n"
     ]
    }
   ],
   "source": [
    "print(dir(math))"
   ]
  },
  {
   "cell_type": "code",
   "execution_count": 116,
   "id": "40437d4e",
   "metadata": {},
   "outputs": [
    {
     "data": {
      "text/plain": [
       "12655723162254307425418678245150829297671403862274660768187828858528140823147351237817802795619571074765208532598060224803240903782164769430795025578054271906283387643826088448124626488332623608376164081221171179439885840257818732919037889603719186743943363062139593784473922231852782547619771723889252476871186000174697934549112845662596182308280390615184691924446215552586523740084932807259056238962104689731522587564412231618018774350801526839567367444928206231310973619440354723718012867753019556135721376207959558860559933052856914157120622980057169891912595926540427596853441276985006724869558201930657900240943007657817473684008944448183219124163017666607770667585082169598239230274035517738648065600492702095732843492708856036920219883363111527988109277392696562776813446645651238419301586157342867860646666350050113314787911320639668510871569846664873595017518995670958477806411667505346462590471136862647349666243426242677175204732314281064417939041868653741187423064985189556742640111598580035644021835576715752869397465453828584471291269955890393294448315746500268702149708808053100406398480942695623586049403348084970064668900206251516968479727515576425962392136269169089884609794271331061018895634421094082310408889752954265842691732460538911784960000000000000000000000000000000000000000000000000000000000000000000000000000000000000000000000000000000000000000000000000000000000000000000000000000"
      ]
     },
     "execution_count": 116,
     "metadata": {},
     "output_type": "execute_result"
    }
   ],
   "source": [
    "math.factorial(600)"
   ]
  },
  {
   "cell_type": "code",
   "execution_count": 117,
   "id": "55678786",
   "metadata": {},
   "outputs": [
    {
     "name": "stdout",
     "output_type": "stream",
     "text": [
      "['__builtins__', '__cached__', '__doc__', '__file__', '__loader__', '__name__', '__package__', '__spec__', 'b']\n"
     ]
    }
   ],
   "source": [
    "print(dir(demo))"
   ]
  },
  {
   "cell_type": "code",
   "execution_count": 118,
   "id": "569fd788",
   "metadata": {},
   "outputs": [
    {
     "name": "stdout",
     "output_type": "stream",
     "text": [
      "['__builtins__', '__cached__', '__doc__', '__file__', '__loader__', '__name__', '__package__', '__spec__', 'a', 'sum']\n"
     ]
    }
   ],
   "source": [
    "print(dir(sample))"
   ]
  },
  {
   "cell_type": "markdown",
   "id": "24d78857",
   "metadata": {},
   "source": [
    "## FILES:\n",
    "    - To store the data permanently\n",
    "    - It has different modes they are:\n",
    "        -> read => r\n",
    "        -> append => a\n",
    "        -> write => w\n",
    "        -> execute => e"
   ]
  },
  {
   "cell_type": "code",
   "execution_count": 125,
   "id": "a9a7df11",
   "metadata": {},
   "outputs": [
    {
     "name": "stdout",
     "output_type": "stream",
     "text": [
      "sno name age\n"
     ]
    }
   ],
   "source": [
    "with open('Files\\demo.csv','w') as gh:\n",
    "    n = input().split()\n",
    "    for j in n:\n",
    "        d = j+\",\"\n",
    "        gh.write(d)"
   ]
  },
  {
   "cell_type": "code",
   "execution_count": 133,
   "id": "11160e62",
   "metadata": {},
   "outputs": [
    {
     "name": "stdout",
     "output_type": "stream",
     "text": [
      "this is sample example\n",
      "this is second line\n",
      "this is third line\n"
     ]
    }
   ],
   "source": [
    "with open('Files\\sample.text','r') as ft:\n",
    "    print(ft.read())"
   ]
  },
  {
   "cell_type": "code",
   "execution_count": 137,
   "id": "c92fdc12",
   "metadata": {},
   "outputs": [
    {
     "name": "stdout",
     "output_type": "stream",
     "text": [
      "this is sample line\n"
     ]
    }
   ],
   "source": [
    "with open('Files\\sample.text','a') as df:\n",
    "    j = input()\n",
    "    df.write(j)"
   ]
  },
  {
   "cell_type": "code",
   "execution_count": 138,
   "id": "6c495ac7",
   "metadata": {},
   "outputs": [
    {
     "name": "stdout",
     "output_type": "stream",
     "text": [
      "this is sample example\n",
      "this is second line\n",
      "this is third linethis is sample line\n"
     ]
    }
   ],
   "source": [
    "with open('Files\\sample.text','r') as ft:\n",
    "    print(ft.read())"
   ]
  },
  {
   "cell_type": "code",
   "execution_count": null,
   "id": "b8812a63",
   "metadata": {},
   "outputs": [],
   "source": [
    "Input:\n",
    "    5\n",
    "    20 54 87 9 12\n",
    "Output:\n",
    "    Input.text\n",
    "    5\n",
    "    20 54 87 9 12\n",
    "    \n",
    "    "
   ]
  }
 ],
 "metadata": {
  "kernelspec": {
   "display_name": "Python 3",
   "language": "python",
   "name": "python3"
  },
  "language_info": {
   "codemirror_mode": {
    "name": "ipython",
    "version": 3
   },
   "file_extension": ".py",
   "mimetype": "text/x-python",
   "name": "python",
   "nbconvert_exporter": "python",
   "pygments_lexer": "ipython3",
   "version": "3.7.5"
  }
 },
 "nbformat": 4,
 "nbformat_minor": 5
}

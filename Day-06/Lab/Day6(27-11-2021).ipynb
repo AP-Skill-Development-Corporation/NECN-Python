{
 "cells": [
  {
   "cell_type": "code",
   "execution_count": 2,
   "id": "0a826276",
   "metadata": {},
   "outputs": [
    {
     "name": "stdout",
     "output_type": "stream",
     "text": [
      "1 2 3 4 5 6 7 8 9 "
     ]
    }
   ],
   "source": [
    "# list comprehensions\n",
    "for i in range(1,10):\n",
    "    print(i,end=\" \")"
   ]
  },
  {
   "cell_type": "code",
   "execution_count": 3,
   "id": "a1b3d1de",
   "metadata": {},
   "outputs": [
    {
     "name": "stdout",
     "output_type": "stream",
     "text": [
      "10\n",
      "[1, 2, 3, 4, 5, 6, 7, 8, 9, 10]\n"
     ]
    }
   ],
   "source": [
    "li = []\n",
    "n = int(input())\n",
    "for j in range(1,n+1):\n",
    "    li.append(j)\n",
    "print(li)"
   ]
  },
  {
   "cell_type": "code",
   "execution_count": 4,
   "id": "bfe24150",
   "metadata": {},
   "outputs": [
    {
     "data": {
      "text/plain": [
       "[1, 2, 3, 4, 5, 6, 7, 8, 9]"
      ]
     },
     "execution_count": 4,
     "metadata": {},
     "output_type": "execute_result"
    }
   ],
   "source": [
    "li = [i for i in range(1,10)]\n",
    "li"
   ]
  },
  {
   "cell_type": "code",
   "execution_count": 5,
   "id": "ff3ac94a",
   "metadata": {},
   "outputs": [
    {
     "name": "stdout",
     "output_type": "stream",
     "text": [
      "15\n"
     ]
    },
    {
     "data": {
      "text/plain": [
       "[1, 2, 3, 4, 5, 6, 7, 8, 9, 10, 11, 12, 13, 14]"
      ]
     },
     "execution_count": 5,
     "metadata": {},
     "output_type": "execute_result"
    }
   ],
   "source": [
    "li1 = [j for j in range(1,int(input()))]\n",
    "li1"
   ]
  },
  {
   "cell_type": "code",
   "execution_count": 6,
   "id": "5e84319d",
   "metadata": {},
   "outputs": [
    {
     "name": "stdout",
     "output_type": "stream",
     "text": [
      "10\n"
     ]
    },
    {
     "data": {
      "text/plain": [
       "[1, 4, 9, 16, 25, 36, 49, 64, 81]"
      ]
     },
     "execution_count": 6,
     "metadata": {},
     "output_type": "execute_result"
    }
   ],
   "source": [
    "li1 = [j*j for j in range(1,int(input()))]\n",
    "li1"
   ]
  },
  {
   "cell_type": "code",
   "execution_count": 7,
   "id": "b345b5c9",
   "metadata": {},
   "outputs": [
    {
     "data": {
      "text/plain": [
       "<generator object <genexpr> at 0x05EE3420>"
      ]
     },
     "execution_count": 7,
     "metadata": {},
     "output_type": "execute_result"
    }
   ],
   "source": [
    "t = (i for i in range(1,10))\n",
    "t"
   ]
  },
  {
   "cell_type": "code",
   "execution_count": 9,
   "id": "f70003f2",
   "metadata": {},
   "outputs": [
    {
     "data": {
      "text/plain": [
       "1"
      ]
     },
     "execution_count": 9,
     "metadata": {},
     "output_type": "execute_result"
    }
   ],
   "source": [
    "next(t)"
   ]
  },
  {
   "cell_type": "code",
   "execution_count": 10,
   "id": "f1f1cdce",
   "metadata": {},
   "outputs": [
    {
     "data": {
      "text/plain": [
       "2"
      ]
     },
     "execution_count": 10,
     "metadata": {},
     "output_type": "execute_result"
    }
   ],
   "source": [
    "next(t)"
   ]
  },
  {
   "cell_type": "code",
   "execution_count": 11,
   "id": "a7d528e3",
   "metadata": {},
   "outputs": [
    {
     "data": {
      "text/plain": [
       "3"
      ]
     },
     "execution_count": 11,
     "metadata": {},
     "output_type": "execute_result"
    }
   ],
   "source": [
    "next(t)"
   ]
  },
  {
   "cell_type": "code",
   "execution_count": 12,
   "id": "03c486de",
   "metadata": {},
   "outputs": [
    {
     "name": "stdout",
     "output_type": "stream",
     "text": [
      " i am 1st call....\n",
      " i am 2nd call....\n",
      " i am 3rd call....\n",
      " i am 4th call....\n",
      " i am 5th call....\n"
     ]
    }
   ],
   "source": [
    "def gen():\n",
    "    print(\" i am 1st call....\")\n",
    "    print(\" i am 2nd call....\")\n",
    "    print(\" i am 3rd call....\")\n",
    "    print(\" i am 4th call....\")\n",
    "    print(\" i am 5th call....\")\n",
    "gen()"
   ]
  },
  {
   "cell_type": "code",
   "execution_count": 33,
   "id": "5f9de29f",
   "metadata": {},
   "outputs": [],
   "source": [
    "def gen1():\n",
    "    print(\" i am 1st call....\")\n",
    "    yield 1\n",
    "    print(\" i am 2nd call....\")\n",
    "    yield 2\n",
    "    print(\" i am 3rd call....\")\n",
    "    yield 3\n",
    "    print(\" i am 4th call....\")\n",
    "    yield 4\n",
    "    print(\" i am 5th call....\")\n",
    "    yield 5"
   ]
  },
  {
   "cell_type": "code",
   "execution_count": 34,
   "id": "af4cf184",
   "metadata": {},
   "outputs": [
    {
     "name": "stdout",
     "output_type": "stream",
     "text": [
      " i am 1st call....\n",
      "1\n",
      " i am 2nd call....\n",
      "2\n",
      " i am 3rd call....\n",
      "3\n",
      " i am 4th call....\n",
      "4\n",
      " i am 5th call....\n",
      "5\n"
     ]
    }
   ],
   "source": [
    "for g in gen1():\n",
    "    print(g)"
   ]
  },
  {
   "cell_type": "code",
   "execution_count": 28,
   "id": "87a44128",
   "metadata": {},
   "outputs": [
    {
     "name": "stdout",
     "output_type": "stream",
     "text": [
      " i am 1st call....\n"
     ]
    }
   ],
   "source": [
    "next(gen1())"
   ]
  },
  {
   "cell_type": "code",
   "execution_count": 23,
   "id": "a2eaef42",
   "metadata": {},
   "outputs": [
    {
     "name": "stdout",
     "output_type": "stream",
     "text": [
      " i am 1st call....\n"
     ]
    }
   ],
   "source": [
    "next(gen1())"
   ]
  },
  {
   "cell_type": "code",
   "execution_count": 35,
   "id": "58b1626f",
   "metadata": {},
   "outputs": [
    {
     "data": {
      "text/plain": [
       "{1, 2, 3, 4, 5, 6, 7, 8, 9, 10}"
      ]
     },
     "execution_count": 35,
     "metadata": {},
     "output_type": "execute_result"
    }
   ],
   "source": [
    "s = {i for i in range(1,11)}\n",
    "s"
   ]
  },
  {
   "cell_type": "code",
   "execution_count": 36,
   "id": "07210480",
   "metadata": {},
   "outputs": [
    {
     "data": {
      "text/plain": [
       "{1: 1, 2: 4, 3: 9, 4: 16, 5: 25, 6: 36, 7: 49, 8: 64, 9: 81, 10: 100}"
      ]
     },
     "execution_count": 36,
     "metadata": {},
     "output_type": "execute_result"
    }
   ],
   "source": [
    "d = {i:i*i for i in range(1,11)}\n",
    "d"
   ]
  },
  {
   "cell_type": "code",
   "execution_count": 37,
   "id": "fb9005f3",
   "metadata": {},
   "outputs": [
    {
     "name": "stdout",
     "output_type": "stream",
     "text": [
      "5\n"
     ]
    }
   ],
   "source": [
    "n = int(input())\n",
    "mtable = [(n,\"*\",i,\"=\",n*i) for i in range(1,11)]"
   ]
  },
  {
   "cell_type": "code",
   "execution_count": 38,
   "id": "6915a6a4",
   "metadata": {},
   "outputs": [
    {
     "data": {
      "text/plain": [
       "[(5, '*', 1, '=', 5),\n",
       " (5, '*', 2, '=', 10),\n",
       " (5, '*', 3, '=', 15),\n",
       " (5, '*', 4, '=', 20),\n",
       " (5, '*', 5, '=', 25),\n",
       " (5, '*', 6, '=', 30),\n",
       " (5, '*', 7, '=', 35),\n",
       " (5, '*', 8, '=', 40),\n",
       " (5, '*', 9, '=', 45),\n",
       " (5, '*', 10, '=', 50)]"
      ]
     },
     "execution_count": 38,
     "metadata": {},
     "output_type": "execute_result"
    }
   ],
   "source": [
    "mtable"
   ]
  },
  {
   "cell_type": "code",
   "execution_count": 40,
   "id": "8e7df159",
   "metadata": {},
   "outputs": [
    {
     "name": "stdout",
     "output_type": "stream",
     "text": [
      "50\n",
      "[2, 4, 6, 8, 10, 12, 14, 16, 18, 20, 22, 24, 26, 28, 30, 32, 34, 36, 38, 40, 42, 44, 46, 48]\n"
     ]
    }
   ],
   "source": [
    "evens = [i for i in range(1,int(input())) if i%2 ==0 ]\n",
    "print(evens)"
   ]
  },
  {
   "cell_type": "code",
   "execution_count": 41,
   "id": "17cd8003",
   "metadata": {},
   "outputs": [
    {
     "name": "stdout",
     "output_type": "stream",
     "text": [
      "50\n",
      "{2: 4, 4: 16, 6: 36, 8: 64, 10: 100, 12: 144, 14: 196, 16: 256, 18: 324, 20: 400, 22: 484, 24: 576, 26: 676, 28: 784, 30: 900, 32: 1024, 34: 1156, 36: 1296, 38: 1444, 40: 1600, 42: 1764, 44: 1936, 46: 2116, 48: 2304}\n"
     ]
    }
   ],
   "source": [
    "evens = {i:i*i for i in range(1,int(input())) if i%2 ==0 }\n",
    "print(evens)"
   ]
  },
  {
   "cell_type": "code",
   "execution_count": 43,
   "id": "9c75259b",
   "metadata": {},
   "outputs": [
    {
     "name": "stdout",
     "output_type": "stream",
     "text": [
      "10\n",
      "{2: 8, 4: 64, 6: 216, 8: 512}\n"
     ]
    }
   ],
   "source": [
    "\n",
    "evens = {i:pow(i,3) for i in range(1,int(input())) if i%2 ==0 }\n",
    "print(evens)"
   ]
  },
  {
   "cell_type": "markdown",
   "id": "d236350a",
   "metadata": {},
   "source": [
    "# files"
   ]
  },
  {
   "cell_type": "code",
   "execution_count": 48,
   "id": "fdf2b286",
   "metadata": {},
   "outputs": [],
   "source": [
    "fhand = open(\"Files/myfile.txt\")"
   ]
  },
  {
   "cell_type": "code",
   "execution_count": 49,
   "id": "75a459e1",
   "metadata": {},
   "outputs": [
    {
     "data": {
      "text/plain": [
       "<_io.TextIOWrapper name='Files/myfile.txt' mode='r' encoding='cp1252'>"
      ]
     },
     "execution_count": 49,
     "metadata": {},
     "output_type": "execute_result"
    }
   ],
   "source": [
    "fhand"
   ]
  },
  {
   "cell_type": "code",
   "execution_count": 50,
   "id": "05be0263",
   "metadata": {},
   "outputs": [
    {
     "data": {
      "text/plain": [
       "'hi\\nhello\\ni am from APSSDC\\nright now i am in Narayana'"
      ]
     },
     "execution_count": 50,
     "metadata": {},
     "output_type": "execute_result"
    }
   ],
   "source": [
    "fhand.read()"
   ]
  },
  {
   "cell_type": "code",
   "execution_count": 54,
   "id": "e14d3af4",
   "metadata": {},
   "outputs": [
    {
     "name": "stdout",
     "output_type": "stream",
     "text": [
      "hi\n",
      "hello\n",
      "i am from APSSDC\n",
      "right now i am in Narayana\n"
     ]
    }
   ],
   "source": [
    "fhand = open(\"Files/myfile.txt\")\n",
    "for line in fhand:\n",
    "    print(line.rstrip())\n",
    "fhand.close()"
   ]
  },
  {
   "cell_type": "code",
   "execution_count": 55,
   "id": "b809f754",
   "metadata": {},
   "outputs": [
    {
     "name": "stdout",
     "output_type": "stream",
     "text": [
      "hi\n",
      "hello\n",
      "i am from APSSDC\n",
      "right now i am in Narayana\n"
     ]
    }
   ],
   "source": [
    "with open(\"Files/myfile.txt\") as  fh:\n",
    "    for line in fh:\n",
    "        print(line.rstrip())"
   ]
  },
  {
   "cell_type": "code",
   "execution_count": 57,
   "id": "37dbef87",
   "metadata": {},
   "outputs": [
    {
     "name": "stdout",
     "output_type": "stream",
     "text": [
      "done\n"
     ]
    }
   ],
   "source": [
    "with open(\"Files/Wfile.txt\",\"w\") as fh:\n",
    "    txt = \"Hi Mohammad, how r u?\"\n",
    "    fh.write(txt)\n",
    "print(\"done\")"
   ]
  },
  {
   "cell_type": "code",
   "execution_count": 60,
   "id": "86fda2eb",
   "metadata": {},
   "outputs": [
    {
     "name": "stdout",
     "output_type": "stream",
     "text": [
      "done\n"
     ]
    }
   ],
   "source": [
    "with open(\"Files/Wfile.txt\",\"a\") as fh:\n",
    "    txt = \"Hi Rasool, how r u?\"\n",
    "    fh.write(\"\\n\"+txt)\n",
    "print(\"done\")"
   ]
  },
  {
   "cell_type": "code",
   "execution_count": 62,
   "id": "c5290ae1",
   "metadata": {},
   "outputs": [
    {
     "name": "stdout",
     "output_type": "stream",
     "text": [
      "Mohammad\n",
      "7894562103\n",
      "mohammad@gmail.com\n",
      "Contact savesd Successfully..........\n"
     ]
    }
   ],
   "source": [
    "with open(\"Files/contact.txt\",'a') as fh:\n",
    "    name = input()\n",
    "    mbno = input()\n",
    "    mailid = input()\n",
    "    txt = \"\\n\"+name+\",\"+mbno+\",\"+mailid\n",
    "    fh.write(txt)\n",
    "print(\"Contact savesd Successfully..........\")"
   ]
  },
  {
   "cell_type": "code",
   "execution_count": 72,
   "id": "dda411d7",
   "metadata": {},
   "outputs": [
    {
     "name": "stdout",
     "output_type": "stream",
     "text": [
      "985461237\n",
      "myname#gmail.com\n",
      "myname\n"
     ]
    },
    {
     "data": {
      "text/plain": [
       "'Contact Saved Successfully'"
      ]
     },
     "execution_count": 72,
     "metadata": {},
     "output_type": "execute_result"
    }
   ],
   "source": [
    "def createContact(name,mbno,mailid):\n",
    "    with open(\"Files/contact.txt\",'a') as fh:\n",
    "        txt = \"\\n\"+name+\",\"+mbno+\",\"+mailid\n",
    "        fh.write(txt)\n",
    "        return \"Contact Saved Successfully\"\n",
    "\n",
    "name = input()\n",
    "mbno = input()\n",
    "mailid = input()\n",
    "createContact(name,mbno,mailid)"
   ]
  },
  {
   "cell_type": "code",
   "execution_count": 64,
   "id": "f806ab36",
   "metadata": {},
   "outputs": [],
   "source": [
    "def displayContacts():\n",
    "    with open(\"Files/contact.txt\") as fh:\n",
    "        for contact in fh:\n",
    "            print(contact.rstrip())"
   ]
  },
  {
   "cell_type": "code",
   "execution_count": 73,
   "id": "64e6dacb",
   "metadata": {},
   "outputs": [
    {
     "name": "stdout",
     "output_type": "stream",
     "text": [
      "Name.MobileNo,EmailId\n",
      "Abdul,9856230147,abdul@gmail.com\n",
      "Mohammad,7894562103,mohammad@gmail.com\n",
      "Abdulla,7845963210,abdulla2gmail.com\n",
      "985461237,myname#gmail.com,myname\n"
     ]
    }
   ],
   "source": [
    "displayContacts()"
   ]
  },
  {
   "cell_type": "code",
   "execution_count": 71,
   "id": "ab33e181",
   "metadata": {},
   "outputs": [
    {
     "data": {
      "text/plain": [
       "('9856230147', 'abdul@gmail.com')"
      ]
     },
     "execution_count": 71,
     "metadata": {},
     "output_type": "execute_result"
    }
   ],
   "source": [
    "def searchContact(name):\n",
    "    with open(\"Files/contact.txt\") as fh:\n",
    "        for contact in fh:\n",
    "            fields = contact.strip().split(\",\")\n",
    "            if fields[0] == name:\n",
    "                return fields[1],fields[2]\n",
    "        return \"Contact not existed\"\n",
    "name = \"Abdul\"\n",
    "searchContact(name)"
   ]
  },
  {
   "cell_type": "markdown",
   "id": "eab099d1",
   "metadata": {},
   "source": [
    "# re"
   ]
  },
  {
   "cell_type": "code",
   "execution_count": 74,
   "id": "3115c3b2",
   "metadata": {},
   "outputs": [],
   "source": [
    "import re"
   ]
  },
  {
   "cell_type": "code",
   "execution_count": 75,
   "id": "cc4ba9e1",
   "metadata": {},
   "outputs": [
    {
     "data": {
      "text/plain": [
       "<_sre.SRE_Match object; span=(0, 1), match='a'>"
      ]
     },
     "execution_count": 75,
     "metadata": {},
     "output_type": "execute_result"
    }
   ],
   "source": [
    "re.match(\"a\",\"abdul\")"
   ]
  },
  {
   "cell_type": "code",
   "execution_count": 76,
   "id": "cd015e97",
   "metadata": {},
   "outputs": [],
   "source": [
    "re.match(\"a\",\"Abdul\")"
   ]
  },
  {
   "cell_type": "code",
   "execution_count": 78,
   "id": "a571bc6c",
   "metadata": {},
   "outputs": [],
   "source": [
    "re.match(\"a\",\"Aabdulla\")"
   ]
  },
  {
   "cell_type": "code",
   "execution_count": 79,
   "id": "f378458a",
   "metadata": {},
   "outputs": [
    {
     "data": {
      "text/plain": [
       "<_sre.SRE_Match object; span=(3, 4), match='a'>"
      ]
     },
     "execution_count": 79,
     "metadata": {},
     "output_type": "execute_result"
    }
   ],
   "source": [
    "re.search(\"a\",\"mohamad\")"
   ]
  },
  {
   "cell_type": "code",
   "execution_count": 80,
   "id": "0e70278c",
   "metadata": {},
   "outputs": [
    {
     "data": {
      "text/plain": [
       "['a', 'a']"
      ]
     },
     "execution_count": 80,
     "metadata": {},
     "output_type": "execute_result"
    }
   ],
   "source": [
    "re.findall(\"a\",\"mohamad\")"
   ]
  },
  {
   "cell_type": "code",
   "execution_count": null,
   "id": "249081af",
   "metadata": {},
   "outputs": [],
   "source": [
    "*"
   ]
  }
 ],
 "metadata": {
  "kernelspec": {
   "display_name": "Python 3",
   "language": "python",
   "name": "python3"
  },
  "language_info": {
   "codemirror_mode": {
    "name": "ipython",
    "version": 3
   },
   "file_extension": ".py",
   "mimetype": "text/x-python",
   "name": "python",
   "nbconvert_exporter": "python",
   "pygments_lexer": "ipython3",
   "version": "3.6.8"
  }
 },
 "nbformat": 4,
 "nbformat_minor": 5
}

{
 "cells": [
  {
   "cell_type": "markdown",
   "id": "24527a0c",
   "metadata": {},
   "source": [
    "## Task-1\n",
    "```\n",
    "Input:\n",
    "    1.Create New Contact\n",
    "    2.Existing Contact\n",
    "    3.Delete Contact\n",
    "    4.Exit\n",
    "    \n",
    "    1\n",
    "Output:\n",
    "    Enter Your name: Ramu\n",
    "    Enter Mobile Number: 9868574858\n",
    "    \n",
    "    Ramu : 9868574858\n",
    "\n",
    "        \n",
    "Input:\n",
    "    1.Create New Contact\n",
    "    2.Existing Contact\n",
    "    3.Delete Contact\n",
    "    4.Exit\n",
    "    \n",
    "    2\n",
    "    1.Change Phone Number\n",
    "Output:\n",
    "    Enter New Phone Number: 8748596584\n",
    "    \n",
    "\n",
    "Input:\n",
    "    1.Create New Contact\n",
    "    2.Existing Contact\n",
    "    3.Delete Contact\n",
    "    4.Exit\n",
    "    \n",
    "    3\n",
    "Output:\n",
    "    Enter a name to Delete Contact: Ramu\n",
    "    \n",
    "    Ramu is deleted from your contact\n",
    "```"
   ]
  },
  {
   "cell_type": "code",
   "execution_count": null,
   "id": "80314b86",
   "metadata": {},
   "outputs": [],
   "source": []
  }
 ],
 "metadata": {
  "kernelspec": {
   "display_name": "Python 3",
   "language": "python",
   "name": "python3"
  },
  "language_info": {
   "codemirror_mode": {
    "name": "ipython",
    "version": 3
   },
   "file_extension": ".py",
   "mimetype": "text/x-python",
   "name": "python",
   "nbconvert_exporter": "python",
   "pygments_lexer": "ipython3",
   "version": "3.7.5"
  }
 },
 "nbformat": 4,
 "nbformat_minor": 5
}

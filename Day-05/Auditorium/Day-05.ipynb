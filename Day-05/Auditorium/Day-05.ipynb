{
 "cells": [
  {
   "cell_type": "code",
   "execution_count": 18,
   "id": "220eab73",
   "metadata": {},
   "outputs": [
    {
     "name": "stdout",
     "output_type": "stream",
     "text": [
      "234567823456\n",
      "Even numbers are:  2 4 6 8 2 4 6 \n",
      "Odd numbers are:  3 5 7 3 5 \n",
      "Even numbers sum is: 32\n",
      "Odd numbers sum is: 23\n"
     ]
    }
   ],
   "source": [
    "n = int(input())\n",
    "elist,olist = [],[]\n",
    "while n!=0:\n",
    "    k = n%10\n",
    "    if k%2==0:\n",
    "        elist.append(k)\n",
    "    else:\n",
    "        olist.append(k)\n",
    "    n //= 10\n",
    "print(\"Even numbers are: \",end=\" \")\n",
    "for i in range(len(elist)-1,-1,-1):\n",
    "    print(elist[i],end=\" \")\n",
    "print(\"\\nOdd numbers are: \",end=\" \")\n",
    "for i in range(len(olist)-1,-1,-1):\n",
    "    print(olist[i],end=\" \")\n",
    "print(\"\\nEven numbers sum is: {}\".format(sum(elist)))\n",
    "print(\"Odd numbers sum is: {}\".format(sum(olist)))"
   ]
  },
  {
   "cell_type": "code",
   "execution_count": 20,
   "id": "6904a91b",
   "metadata": {},
   "outputs": [
    {
     "name": "stdout",
     "output_type": "stream",
     "text": [
      "8\n",
      "15\n",
      "EIGHT\n",
      "NINE\n",
      "EVEN\n",
      "ODD\n",
      "EVEN\n",
      "ODD\n",
      "EVEN\n",
      "ODD\n"
     ]
    }
   ],
   "source": [
    "n=int(input())\n",
    "m=int(input())\n",
    "for i in range(n,m+1):\n",
    "    if i==1:\n",
    "        print(\"ONE\")\n",
    "    elif i==2:\n",
    "        print(\"TWO\")\n",
    "    elif i==3:\n",
    "        print(\"THREE\")\n",
    "    elif i==4:\n",
    "        print(\"FOUR\")\n",
    "    elif i==5:\n",
    "        print(\"FIVE\")\n",
    "    elif i==6:\n",
    "        print(\"SIX\")\n",
    "    elif i==7:\n",
    "        print(\"SEVEN\")\n",
    "    elif i==8:\n",
    "        print(\"EIGHT\")\n",
    "    elif i==9:\n",
    "        print(\"NINE\")\n",
    "    else:\n",
    "        if i%2==0:\n",
    "            print(\"EVEN\")\n",
    "        else:\n",
    "            print(\"ODD\")\n",
    "        \n",
    "        \n",
    "    "
   ]
  },
  {
   "cell_type": "code",
   "execution_count": 21,
   "id": "852e4881",
   "metadata": {},
   "outputs": [
    {
     "name": "stdout",
     "output_type": "stream",
     "text": [
      "422\n",
      "435\n",
      "1711A0422 1811A0422 1911A0422\n",
      "1711A0423 1811A0423 1911A0423\n",
      "1711A0424 1811A0424 1911A0424\n",
      "1711A0425 1811A0425 1911A0425\n",
      "1711A0426 1811A0426 1911A0426\n",
      "1711A0427 1811A0427 1911A0427\n",
      "1711A0428 1811A0428 1911A0428\n",
      "1711A0429 1811A0429 1911A0429\n",
      "1711A0430 1811A0430 1911A0430\n",
      "1711A0431 1811A0431 1911A0431\n",
      "1711A0432 1811A0432 1911A0432\n",
      "1711A0433 1811A0433 1911A0433\n",
      "1711A0434 1811A0434 1911A0434\n"
     ]
    }
   ],
   "source": [
    "s = \"17\"\n",
    "m=int(input())\n",
    "n=int(input())\n",
    "for i in range(m,n):\n",
    "    print(\"{}11A0{} {}11A0{} {}11A0{}\".format(int(s),i,int(s)+1,i,int(s)+2,i))    "
   ]
  },
  {
   "cell_type": "code",
   "execution_count": 27,
   "id": "b8dab78e",
   "metadata": {},
   "outputs": [
    {
     "name": "stdout",
     "output_type": "stream",
     "text": [
      "5\n"
     ]
    }
   ],
   "source": [
    "k = [1,6,78,'56',89.0,\"Ramu\"]\n",
    "if \"Ramu\" in k:\n",
    "    print(k.index(\"Ramu\"))"
   ]
  },
  {
   "cell_type": "markdown",
   "id": "4c90382d",
   "metadata": {},
   "source": [
    "## Set:\n",
    "\n",
    "```\n",
    "    - It can be represented as \"{}\"\n",
    "    - Duplicates cant be allowed\n",
    "    - Slicing cant be done because of no index\n",
    "    - It can be typecast by using set()\n",
    "    - It stores the value in ordered with kernel but not in print statements view\n",
    "    - It can changes the value and address will be changed.\n",
    "```"
   ]
  },
  {
   "cell_type": "code",
   "execution_count": 32,
   "id": "2c9a716c",
   "metadata": {},
   "outputs": [
    {
     "name": "stdout",
     "output_type": "stream",
     "text": [
      "{3.0, 5, 6, 7, 'ramu', 45, 78.0, '45', 23, 'rajesh'}\n"
     ]
    }
   ],
   "source": [
    "g = {23,5,6,3.0,45,78.0,7,5,6,\"rajesh\",'ramu','45'}\n",
    "print(g)"
   ]
  },
  {
   "cell_type": "code",
   "execution_count": 33,
   "id": "cbae163f",
   "metadata": {},
   "outputs": [
    {
     "name": "stdout",
     "output_type": "stream",
     "text": [
      "['__and__', '__class__', '__contains__', '__delattr__', '__dir__', '__doc__', '__eq__', '__format__', '__ge__', '__getattribute__', '__gt__', '__hash__', '__iand__', '__init__', '__init_subclass__', '__ior__', '__isub__', '__iter__', '__ixor__', '__le__', '__len__', '__lt__', '__ne__', '__new__', '__or__', '__rand__', '__reduce__', '__reduce_ex__', '__repr__', '__ror__', '__rsub__', '__rxor__', '__setattr__', '__sizeof__', '__str__', '__sub__', '__subclasshook__', '__xor__', 'add', 'clear', 'copy', 'difference', 'difference_update', 'discard', 'intersection', 'intersection_update', 'isdisjoint', 'issubset', 'issuperset', 'pop', 'remove', 'symmetric_difference', 'symmetric_difference_update', 'union', 'update']\n"
     ]
    }
   ],
   "source": [
    "print(dir(set))"
   ]
  },
  {
   "cell_type": "code",
   "execution_count": 34,
   "id": "54e20e98",
   "metadata": {},
   "outputs": [
    {
     "name": "stdout",
     "output_type": "stream",
     "text": [
      "{23} <class 'set'>\n",
      "{56, 23}\n"
     ]
    }
   ],
   "source": [
    "f = {23}\n",
    "print(f,type(f))\n",
    "f.add(56)\n",
    "print(f)"
   ]
  },
  {
   "cell_type": "code",
   "execution_count": 35,
   "id": "12efe86c",
   "metadata": {},
   "outputs": [
    {
     "name": "stdout",
     "output_type": "stream",
     "text": [
      "{56, 23}\n"
     ]
    },
    {
     "ename": "TypeError",
     "evalue": "add() takes exactly one argument (2 given)",
     "output_type": "error",
     "traceback": [
      "\u001b[1;31m---------------------------------------------------------------------------\u001b[0m",
      "\u001b[1;31mTypeError\u001b[0m                                 Traceback (most recent call last)",
      "\u001b[1;32m<ipython-input-35-672583b6474e>\u001b[0m in \u001b[0;36m<module>\u001b[1;34m\u001b[0m\n\u001b[0;32m      1\u001b[0m \u001b[0mprint\u001b[0m\u001b[1;33m(\u001b[0m\u001b[0mf\u001b[0m\u001b[1;33m)\u001b[0m\u001b[1;33m\u001b[0m\u001b[1;33m\u001b[0m\u001b[0m\n\u001b[1;32m----> 2\u001b[1;33m \u001b[0mf\u001b[0m\u001b[1;33m.\u001b[0m\u001b[0madd\u001b[0m\u001b[1;33m(\u001b[0m\u001b[1;36m45\u001b[0m\u001b[1;33m,\u001b[0m\u001b[1;36m78\u001b[0m\u001b[1;33m)\u001b[0m\u001b[1;33m\u001b[0m\u001b[1;33m\u001b[0m\u001b[0m\n\u001b[0m\u001b[0;32m      3\u001b[0m \u001b[0mprint\u001b[0m\u001b[1;33m(\u001b[0m\u001b[0mf\u001b[0m\u001b[1;33m)\u001b[0m\u001b[1;33m\u001b[0m\u001b[1;33m\u001b[0m\u001b[0m\n",
      "\u001b[1;31mTypeError\u001b[0m: add() takes exactly one argument (2 given)"
     ]
    }
   ],
   "source": [
    "print(f)\n",
    "f.add(45,78)\n",
    "print(f)"
   ]
  },
  {
   "cell_type": "code",
   "execution_count": 36,
   "id": "e2310e21",
   "metadata": {},
   "outputs": [
    {
     "name": "stdout",
     "output_type": "stream",
     "text": [
      "{56, 23}\n",
      "{56, 45, 23}\n"
     ]
    }
   ],
   "source": [
    "print(f)\n",
    "f.add(45)\n",
    "print(f)"
   ]
  },
  {
   "cell_type": "code",
   "execution_count": 38,
   "id": "1046b10c",
   "metadata": {},
   "outputs": [
    {
     "name": "stdout",
     "output_type": "stream",
     "text": [
      "{56, 89, 78}\n",
      "{56, 89, 78}\n"
     ]
    }
   ],
   "source": [
    "k = {78,89,56}\n",
    "p = k.copy()\n",
    "print(p)\n",
    "print(k)"
   ]
  },
  {
   "cell_type": "code",
   "execution_count": 42,
   "id": "0a63ceec",
   "metadata": {},
   "outputs": [
    {
     "name": "stdout",
     "output_type": "stream",
     "text": [
      "{1, 6, 8, 9, 45}\n",
      "{2, 5, 6, 7, 89}\n",
      "{89, 2, 5, 7}\n",
      "{2, 5, 6, 7, 89}\n",
      "{89, 2, 5, 7}\n"
     ]
    }
   ],
   "source": [
    "s1 = {1,8,9,45,6}\n",
    "s2 = {2,5,6,89,7}\n",
    "print(s1)\n",
    "print(s2)\n",
    "s1=s2.difference(s1)\n",
    "print(s1)\n",
    "print(s2)\n",
    "print(f)"
   ]
  },
  {
   "cell_type": "code",
   "execution_count": 43,
   "id": "b6da772f",
   "metadata": {},
   "outputs": [
    {
     "name": "stdout",
     "output_type": "stream",
     "text": [
      "{1, 6, 8, 9, 45}\n",
      "{2, 5, 6, 7, 89}\n",
      "{1, 8, 9, 45}\n",
      "{2, 5, 6, 7, 89}\n"
     ]
    }
   ],
   "source": [
    "s1 = {1,8,9,45,6}\n",
    "s2 = {2,5,6,89,7}\n",
    "print(s1)\n",
    "print(s2)\n",
    "s1.difference_update(s2)\n",
    "print(s1)\n",
    "print(s2)"
   ]
  },
  {
   "cell_type": "code",
   "execution_count": 44,
   "id": "28f23a9d",
   "metadata": {},
   "outputs": [
    {
     "name": "stdout",
     "output_type": "stream",
     "text": [
      "{1, 6, 8, 9, 45}\n",
      "{2, 5, 6, 7, 89}\n",
      "{1, 6, 8, 9, 45}\n",
      "{2, 5, 6, 7, 89}\n",
      "{6}\n"
     ]
    }
   ],
   "source": [
    "s1 = {1,8,9,45,6}\n",
    "s2 = {2,5,6,89,7}\n",
    "print(s1)\n",
    "print(s2)\n",
    "k = s1.intersection(s2)\n",
    "print(s1)\n",
    "print(s2)\n",
    "print(k)"
   ]
  },
  {
   "cell_type": "code",
   "execution_count": 45,
   "id": "fce34ef6",
   "metadata": {},
   "outputs": [
    {
     "name": "stdout",
     "output_type": "stream",
     "text": [
      "{1, 6, 8, 9, 45}\n",
      "{2, 5, 6, 7, 89}\n",
      "{6}\n",
      "{2, 5, 6, 7, 89}\n"
     ]
    }
   ],
   "source": [
    "s1 = {1,8,9,45,6}\n",
    "s2 = {2,5,6,89,7}\n",
    "print(s1)\n",
    "print(s2)\n",
    "s1.intersection_update(s2)\n",
    "print(s1)\n",
    "print(s2)"
   ]
  },
  {
   "cell_type": "code",
   "execution_count": 48,
   "id": "0397386f",
   "metadata": {},
   "outputs": [
    {
     "name": "stdout",
     "output_type": "stream",
     "text": [
      "{1, 6, 8, 9, 45}\n",
      "{2, 5, 6, 7, 89}\n",
      "{1, 6, 8, 9, 45}\n",
      "{2, 5, 6, 7, 89}\n",
      "{1, 2, 5, 6, 7, 8, 9, 45, 89}\n"
     ]
    }
   ],
   "source": [
    "s1 = {1,8,9,45,6}\n",
    "s2 = {2,5,6,89,7}\n",
    "print(s1)\n",
    "print(s2)\n",
    "w = s1.union(s2)\n",
    "print(s1)\n",
    "print(s2)\n",
    "print(w)"
   ]
  },
  {
   "cell_type": "code",
   "execution_count": 51,
   "id": "502bec64",
   "metadata": {},
   "outputs": [
    {
     "name": "stdout",
     "output_type": "stream",
     "text": [
      "{1, 6, 8, 9, 45}\n",
      "{6, 8, 9, 45}\n"
     ]
    }
   ],
   "source": [
    "s1 = {1,8,9,45,6}\n",
    "print(s1)\n",
    "s1.pop()\n",
    "print(s1)"
   ]
  },
  {
   "cell_type": "code",
   "execution_count": 52,
   "id": "3865ef09",
   "metadata": {},
   "outputs": [
    {
     "name": "stdout",
     "output_type": "stream",
     "text": [
      "{6, 8, 9, 45}\n",
      "{8, 9, 45}\n"
     ]
    }
   ],
   "source": [
    "print(s1)\n",
    "s1.pop()\n",
    "print(s1)"
   ]
  },
  {
   "cell_type": "code",
   "execution_count": 54,
   "id": "e3051a48",
   "metadata": {},
   "outputs": [
    {
     "name": "stdout",
     "output_type": "stream",
     "text": [
      "{8, 9, 45}\n",
      "{8, 45}\n"
     ]
    }
   ],
   "source": [
    "print(s1)\n",
    "s1.remove(9)\n",
    "print(s1)"
   ]
  },
  {
   "cell_type": "code",
   "execution_count": 55,
   "id": "e8301675",
   "metadata": {},
   "outputs": [
    {
     "name": "stdout",
     "output_type": "stream",
     "text": [
      "{8, 45}\n"
     ]
    },
    {
     "ename": "KeyError",
     "evalue": "450",
     "output_type": "error",
     "traceback": [
      "\u001b[1;31m---------------------------------------------------------------------------\u001b[0m",
      "\u001b[1;31mKeyError\u001b[0m                                  Traceback (most recent call last)",
      "\u001b[1;32m<ipython-input-55-1c7c6e18ef03>\u001b[0m in \u001b[0;36m<module>\u001b[1;34m\u001b[0m\n\u001b[0;32m      1\u001b[0m \u001b[0mprint\u001b[0m\u001b[1;33m(\u001b[0m\u001b[0ms1\u001b[0m\u001b[1;33m)\u001b[0m\u001b[1;33m\u001b[0m\u001b[1;33m\u001b[0m\u001b[0m\n\u001b[1;32m----> 2\u001b[1;33m \u001b[0ms1\u001b[0m\u001b[1;33m.\u001b[0m\u001b[0mremove\u001b[0m\u001b[1;33m(\u001b[0m\u001b[1;36m450\u001b[0m\u001b[1;33m)\u001b[0m\u001b[1;33m\u001b[0m\u001b[1;33m\u001b[0m\u001b[0m\n\u001b[0m\u001b[0;32m      3\u001b[0m \u001b[0mprint\u001b[0m\u001b[1;33m(\u001b[0m\u001b[0ms1\u001b[0m\u001b[1;33m)\u001b[0m\u001b[1;33m\u001b[0m\u001b[1;33m\u001b[0m\u001b[0m\n",
      "\u001b[1;31mKeyError\u001b[0m: 450"
     ]
    }
   ],
   "source": [
    "print(s1)\n",
    "s1.remove(450)\n",
    "print(s1)"
   ]
  },
  {
   "cell_type": "code",
   "execution_count": 56,
   "id": "26a9e124",
   "metadata": {},
   "outputs": [
    {
     "name": "stdout",
     "output_type": "stream",
     "text": [
      "{1, 6, 8, 9, 45}\n",
      "{2, 5, 6, 7, 89}\n",
      "{1, 6, 8, 9, 45}\n",
      "{2, 5, 6, 7, 89}\n",
      "{1, 2, 5, 7, 8, 9, 89, 45}\n"
     ]
    }
   ],
   "source": [
    "s1 = {1,8,9,45,6}\n",
    "s2 = {2,5,6,89,7}\n",
    "print(s1)\n",
    "print(s2)\n",
    "e = s1.symmetric_difference(s2)\n",
    "print(s1)\n",
    "print(s2)\n",
    "print(e)"
   ]
  },
  {
   "cell_type": "code",
   "execution_count": 57,
   "id": "5472518d",
   "metadata": {},
   "outputs": [
    {
     "name": "stdout",
     "output_type": "stream",
     "text": [
      "{1, 6, 8, 9, 45}\n",
      "{2, 5, 6, 7, 89}\n",
      "{1, 2, 5, 7, 8, 9, 45, 89}\n",
      "{2, 5, 6, 7, 89}\n"
     ]
    }
   ],
   "source": [
    "s1 = {1,8,9,45,6}\n",
    "s2 = {2,5,6,89,7}\n",
    "print(s1)\n",
    "print(s2)\n",
    "s1.symmetric_difference_update(s2)\n",
    "print(s1)\n",
    "print(s2)"
   ]
  },
  {
   "cell_type": "code",
   "execution_count": 59,
   "id": "4359e9cb",
   "metadata": {},
   "outputs": [
    {
     "name": "stdout",
     "output_type": "stream",
     "text": [
      "{1, 6, 8, 9, 45}\n",
      "{2, 5, 6, 7, 89}\n",
      "{1, 2, 5, 6, 7, 8, 9, 45, 89}\n",
      "{2, 5, 6, 7, 89}\n"
     ]
    }
   ],
   "source": [
    "s1 = {1,8,9,45,6}\n",
    "s2 = {2,5,6,89,7}\n",
    "print(s1)\n",
    "print(s2)\n",
    "s1.update(s2)\n",
    "print(s1)\n",
    "print(s2)"
   ]
  },
  {
   "cell_type": "markdown",
   "id": "70c77a3f",
   "metadata": {},
   "source": [
    "## Dictionary:\n",
    "    - It can be represented as \"{}\"\n",
    "    - Duplicates cant be allowed in keys and values can allows it.\n",
    "    - Slicing can be done by using keys and for values seperately\n",
    "    - It can be typecast by using dict()\n",
    "    - It stores the values in key and values pair\n",
    "    - By default the key can stores the values as \"None\" if we didnt pass any value for a key\n",
    "    - It can changes the values but not the keys\n",
    "    - It stores it key value pair as\n",
    "    [{(),(),()}]\n"
   ]
  },
  {
   "cell_type": "code",
   "execution_count": 60,
   "id": "d08bc480",
   "metadata": {},
   "outputs": [
    {
     "name": "stdout",
     "output_type": "stream",
     "text": [
      "{} <class 'dict'>\n"
     ]
    }
   ],
   "source": [
    "d = {}\n",
    "print(d,type(d))"
   ]
  },
  {
   "cell_type": "code",
   "execution_count": 61,
   "id": "f229c269",
   "metadata": {},
   "outputs": [
    {
     "name": "stdout",
     "output_type": "stream",
     "text": [
      "{'e'} <class 'set'>\n"
     ]
    }
   ],
   "source": [
    "s = {'e'}\n",
    "print(s,type(s))"
   ]
  },
  {
   "cell_type": "code",
   "execution_count": 62,
   "id": "5110d66b",
   "metadata": {},
   "outputs": [
    {
     "name": "stdout",
     "output_type": "stream",
     "text": [
      "['__class__', '__contains__', '__delattr__', '__delitem__', '__dir__', '__doc__', '__eq__', '__format__', '__ge__', '__getattribute__', '__getitem__', '__gt__', '__hash__', '__init__', '__init_subclass__', '__iter__', '__le__', '__len__', '__lt__', '__ne__', '__new__', '__reduce__', '__reduce_ex__', '__repr__', '__setattr__', '__setitem__', '__sizeof__', '__str__', '__subclasshook__', 'clear', 'copy', 'fromkeys', 'get', 'items', 'keys', 'pop', 'popitem', 'setdefault', 'update', 'values']\n"
     ]
    }
   ],
   "source": [
    "print(dir(dict))"
   ]
  },
  {
   "cell_type": "code",
   "execution_count": 63,
   "id": "32f8a9d9",
   "metadata": {},
   "outputs": [
    {
     "name": "stdout",
     "output_type": "stream",
     "text": [
      "{'name': ['Rajesh', 'Ramu', 'Lalitha'], 'age': [20, 10], 'sal': 5000} <class 'dict'>\n"
     ]
    }
   ],
   "source": [
    "d = {'name':['Rajesh','Ramu','Lalitha'],'age':[20,10],'sal':5000}\n",
    "print(d,type(d))"
   ]
  },
  {
   "cell_type": "code",
   "execution_count": 64,
   "id": "ed0a6fa4",
   "metadata": {},
   "outputs": [
    {
     "name": "stdout",
     "output_type": "stream",
     "text": [
      "['Rajesh', 'Ramu', 'Lalitha']\n"
     ]
    }
   ],
   "source": [
    "print(d.get('name'))"
   ]
  },
  {
   "cell_type": "code",
   "execution_count": 65,
   "id": "3b59421b",
   "metadata": {},
   "outputs": [
    {
     "name": "stdout",
     "output_type": "stream",
     "text": [
      "dict_keys(['name', 'age', 'sal'])\n"
     ]
    }
   ],
   "source": [
    "print(d.keys())"
   ]
  },
  {
   "cell_type": "code",
   "execution_count": 66,
   "id": "045dcba6",
   "metadata": {},
   "outputs": [
    {
     "name": "stdout",
     "output_type": "stream",
     "text": [
      "dict_values([['Rajesh', 'Ramu', 'Lalitha'], [20, 10], 5000])\n"
     ]
    }
   ],
   "source": [
    "print(d.values())"
   ]
  },
  {
   "cell_type": "code",
   "execution_count": 67,
   "id": "cf478a50",
   "metadata": {},
   "outputs": [
    {
     "name": "stdout",
     "output_type": "stream",
     "text": [
      "dict_items([('name', ['Rajesh', 'Ramu', 'Lalitha']), ('age', [20, 10]), ('sal', 5000)])\n"
     ]
    }
   ],
   "source": [
    "print(d.items())"
   ]
  },
  {
   "cell_type": "code",
   "execution_count": 68,
   "id": "c9dc4edc",
   "metadata": {},
   "outputs": [
    {
     "name": "stdout",
     "output_type": "stream",
     "text": [
      "{'name': ['Rajesh', 'Ramu', 'Lalitha'], 'age': [20, 10], 'sal': 5000}\n"
     ]
    },
    {
     "ename": "TypeError",
     "evalue": "pop expected at least 1 arguments, got 0",
     "output_type": "error",
     "traceback": [
      "\u001b[1;31m---------------------------------------------------------------------------\u001b[0m",
      "\u001b[1;31mTypeError\u001b[0m                                 Traceback (most recent call last)",
      "\u001b[1;32m<ipython-input-68-57be7b49cf91>\u001b[0m in \u001b[0;36m<module>\u001b[1;34m\u001b[0m\n\u001b[0;32m      1\u001b[0m \u001b[0mprint\u001b[0m\u001b[1;33m(\u001b[0m\u001b[0md\u001b[0m\u001b[1;33m)\u001b[0m\u001b[1;33m\u001b[0m\u001b[1;33m\u001b[0m\u001b[0m\n\u001b[1;32m----> 2\u001b[1;33m \u001b[0md\u001b[0m\u001b[1;33m.\u001b[0m\u001b[0mpop\u001b[0m\u001b[1;33m(\u001b[0m\u001b[1;33m)\u001b[0m\u001b[1;33m\u001b[0m\u001b[1;33m\u001b[0m\u001b[0m\n\u001b[0m\u001b[0;32m      3\u001b[0m \u001b[0mprint\u001b[0m\u001b[1;33m(\u001b[0m\u001b[0md\u001b[0m\u001b[1;33m)\u001b[0m\u001b[1;33m\u001b[0m\u001b[1;33m\u001b[0m\u001b[0m\n",
      "\u001b[1;31mTypeError\u001b[0m: pop expected at least 1 arguments, got 0"
     ]
    }
   ],
   "source": [
    "print(d)\n",
    "d.pop()\n",
    "print(d)"
   ]
  },
  {
   "cell_type": "code",
   "execution_count": 69,
   "id": "3698c5bc",
   "metadata": {},
   "outputs": [
    {
     "name": "stdout",
     "output_type": "stream",
     "text": [
      "{'name': ['Rajesh', 'Ramu', 'Lalitha'], 'age': [20, 10], 'sal': 5000}\n",
      "{'age': [20, 10], 'sal': 5000}\n"
     ]
    }
   ],
   "source": [
    "print(d)\n",
    "d.pop('name')\n",
    "print(d)"
   ]
  },
  {
   "cell_type": "code",
   "execution_count": 70,
   "id": "47301ab4",
   "metadata": {},
   "outputs": [
    {
     "name": "stdout",
     "output_type": "stream",
     "text": [
      "{'age': [20, 10], 'sal': 5000}\n",
      "{'age': [20, 10]}\n"
     ]
    }
   ],
   "source": [
    "print(d)\n",
    "d.popitem()\n",
    "print(d)"
   ]
  },
  {
   "cell_type": "code",
   "execution_count": 71,
   "id": "f5218797",
   "metadata": {},
   "outputs": [
    {
     "name": "stdout",
     "output_type": "stream",
     "text": [
      "{'age': [20, 10]}\n",
      "{'age': [20, 10], 'sno': 1}\n"
     ]
    }
   ],
   "source": [
    "print(d)\n",
    "d['sno'] = 1\n",
    "print(d)"
   ]
  },
  {
   "cell_type": "code",
   "execution_count": 72,
   "id": "0b66f3df",
   "metadata": {},
   "outputs": [
    {
     "name": "stdout",
     "output_type": "stream",
     "text": [
      "{'age': [20, 10], 'sno': 1}\n"
     ]
    },
    {
     "ename": "TypeError",
     "evalue": "popitem() takes no arguments (1 given)",
     "output_type": "error",
     "traceback": [
      "\u001b[1;31m---------------------------------------------------------------------------\u001b[0m",
      "\u001b[1;31mTypeError\u001b[0m                                 Traceback (most recent call last)",
      "\u001b[1;32m<ipython-input-72-ff47e79c2f49>\u001b[0m in \u001b[0;36m<module>\u001b[1;34m\u001b[0m\n\u001b[0;32m      1\u001b[0m \u001b[0mprint\u001b[0m\u001b[1;33m(\u001b[0m\u001b[0md\u001b[0m\u001b[1;33m)\u001b[0m\u001b[1;33m\u001b[0m\u001b[1;33m\u001b[0m\u001b[0m\n\u001b[1;32m----> 2\u001b[1;33m \u001b[0md\u001b[0m\u001b[1;33m.\u001b[0m\u001b[0mpopitem\u001b[0m\u001b[1;33m(\u001b[0m\u001b[1;34m'age'\u001b[0m\u001b[1;33m)\u001b[0m\u001b[1;33m\u001b[0m\u001b[1;33m\u001b[0m\u001b[0m\n\u001b[0m\u001b[0;32m      3\u001b[0m \u001b[0mprint\u001b[0m\u001b[1;33m(\u001b[0m\u001b[0md\u001b[0m\u001b[1;33m)\u001b[0m\u001b[1;33m\u001b[0m\u001b[1;33m\u001b[0m\u001b[0m\n",
      "\u001b[1;31mTypeError\u001b[0m: popitem() takes no arguments (1 given)"
     ]
    }
   ],
   "source": [
    "print(d)\n",
    "d.popitem('age')\n",
    "print(d)"
   ]
  },
  {
   "cell_type": "code",
   "execution_count": 73,
   "id": "f5414c5e",
   "metadata": {},
   "outputs": [
    {
     "name": "stdout",
     "output_type": "stream",
     "text": [
      "{'age': [20, 10], 'sno': 1}\n"
     ]
    },
    {
     "ename": "TypeError",
     "evalue": "setdefault expected at least 1 arguments, got 0",
     "output_type": "error",
     "traceback": [
      "\u001b[1;31m---------------------------------------------------------------------------\u001b[0m",
      "\u001b[1;31mTypeError\u001b[0m                                 Traceback (most recent call last)",
      "\u001b[1;32m<ipython-input-73-62cb47d05bb9>\u001b[0m in \u001b[0;36m<module>\u001b[1;34m\u001b[0m\n\u001b[0;32m      1\u001b[0m \u001b[0mprint\u001b[0m\u001b[1;33m(\u001b[0m\u001b[0md\u001b[0m\u001b[1;33m)\u001b[0m\u001b[1;33m\u001b[0m\u001b[1;33m\u001b[0m\u001b[0m\n\u001b[1;32m----> 2\u001b[1;33m \u001b[0md\u001b[0m\u001b[1;33m.\u001b[0m\u001b[0msetdefault\u001b[0m\u001b[1;33m(\u001b[0m\u001b[1;33m)\u001b[0m\u001b[1;33m\u001b[0m\u001b[1;33m\u001b[0m\u001b[0m\n\u001b[0m\u001b[0;32m      3\u001b[0m \u001b[0mprint\u001b[0m\u001b[1;33m(\u001b[0m\u001b[0md\u001b[0m\u001b[1;33m)\u001b[0m\u001b[1;33m\u001b[0m\u001b[1;33m\u001b[0m\u001b[0m\n",
      "\u001b[1;31mTypeError\u001b[0m: setdefault expected at least 1 arguments, got 0"
     ]
    }
   ],
   "source": [
    "print(d)\n",
    "d.setdefault()\n",
    "print(d)"
   ]
  },
  {
   "cell_type": "code",
   "execution_count": 74,
   "id": "36b98ae2",
   "metadata": {},
   "outputs": [
    {
     "name": "stdout",
     "output_type": "stream",
     "text": [
      "{'age': [20, 10], 'sno': 1}\n",
      "{'age': [20, 10], 'sno': 1, 'sal': None}\n"
     ]
    }
   ],
   "source": [
    "print(d)\n",
    "d.setdefault('sal')\n",
    "print(d)"
   ]
  },
  {
   "cell_type": "code",
   "execution_count": 75,
   "id": "963d0a97",
   "metadata": {},
   "outputs": [
    {
     "name": "stdout",
     "output_type": "stream",
     "text": [
      "{'age': [20, 10], 'sno': 1, 'sal': None}\n",
      "{'age': [20, 10], 'sno': 1, 'sal': [4500, 12000]}\n"
     ]
    }
   ],
   "source": [
    "print(d)\n",
    "d['sal'] = [4500,12000]\n",
    "print(d)"
   ]
  },
  {
   "cell_type": "code",
   "execution_count": null,
   "id": "9bde6ac0",
   "metadata": {},
   "outputs": [],
   "source": [
    "[1,2,6,1,8,19,15,4,18,1,1,3,2,45,1]\n",
    "1 count is: 5\n",
    "2 count is: 2\n",
    "3 "
   ]
  },
  {
   "cell_type": "markdown",
   "id": "afd01000",
   "metadata": {},
   "source": [
    "## Strings:\n",
    "    - It can be represented as ' or \" or \"\"\"\n",
    "    - Duplicates can be allowed\n",
    "    - Slicing can be done because of index \n",
    "    - It can be typecast by using str()\n",
    "    - It can changes the value but the address will be differ"
   ]
  },
  {
   "cell_type": "code",
   "execution_count": 81,
   "id": "18462f07",
   "metadata": {},
   "outputs": [
    {
     "name": "stdout",
     "output_type": "stream",
     "text": [
      "12\n",
      "insert 0 5\n",
      "insert 1 10\n",
      "insert 0 6\n",
      "print\n",
      "[6, 5, 10]\n",
      "remove 6\n",
      "append 9\n",
      "append 1\n",
      "sort\n",
      "print\n",
      "[1, 5, 9, 10]\n",
      "pop\n",
      "reverse\n",
      "print\n",
      "[9, 5, 1]\n"
     ]
    }
   ],
   "source": [
    "n = int(input())\n",
    "j = []\n",
    "for i in range(1,n+1):\n",
    "    k = input().split()\n",
    "    if k[0] == \"insert\":\n",
    "        j.insert(int(k[1]),int(k[2])) \n",
    "    elif k[0] == \"append\":\n",
    "        j.append(int(k[1]))\n",
    "    elif k[0] == \"remove\":\n",
    "        j.remove(int(k[1]))\n",
    "    elif k[0] == \"sort\":\n",
    "        j.sort()\n",
    "    elif k[0] == \"reverse\":\n",
    "        j.reverse()\n",
    "    elif k[0] == \"pop\":\n",
    "        j.pop()\n",
    "    else:\n",
    "        print(j)"
   ]
  },
  {
   "cell_type": "code",
   "execution_count": 80,
   "id": "a832096a",
   "metadata": {},
   "outputs": [
    {
     "name": "stdout",
     "output_type": "stream",
     "text": [
      "23 0 5 15 98\n",
      "['23', '0', '5', '15', '98'] <class 'list'>\n"
     ]
    }
   ],
   "source": [
    "l = input().split()\n",
    "print(l,type(l))"
   ]
  },
  {
   "cell_type": "code",
   "execution_count": 82,
   "id": "0d52c414",
   "metadata": {},
   "outputs": [
    {
     "name": "stdout",
     "output_type": "stream",
     "text": [
      "ramu <class 'str'>\n"
     ]
    }
   ],
   "source": [
    "s = 'ramu'\n",
    "print(s,type(s))"
   ]
  },
  {
   "cell_type": "code",
   "execution_count": 83,
   "id": "5a2384bc",
   "metadata": {},
   "outputs": [
    {
     "name": "stdout",
     "output_type": "stream",
     "text": [
      "['__add__', '__class__', '__contains__', '__delattr__', '__dir__', '__doc__', '__eq__', '__format__', '__ge__', '__getattribute__', '__getitem__', '__getnewargs__', '__gt__', '__hash__', '__init__', '__init_subclass__', '__iter__', '__le__', '__len__', '__lt__', '__mod__', '__mul__', '__ne__', '__new__', '__reduce__', '__reduce_ex__', '__repr__', '__rmod__', '__rmul__', '__setattr__', '__sizeof__', '__str__', '__subclasshook__', 'capitalize', 'casefold', 'center', 'count', 'encode', 'endswith', 'expandtabs', 'find', 'format', 'format_map', 'index', 'isalnum', 'isalpha', 'isascii', 'isdecimal', 'isdigit', 'isidentifier', 'islower', 'isnumeric', 'isprintable', 'isspace', 'istitle', 'isupper', 'join', 'ljust', 'lower', 'lstrip', 'maketrans', 'partition', 'replace', 'rfind', 'rindex', 'rjust', 'rpartition', 'rsplit', 'rstrip', 'split', 'splitlines', 'startswith', 'strip', 'swapcase', 'title', 'translate', 'upper', 'zfill']\n"
     ]
    }
   ],
   "source": [
    "print(dir(str))"
   ]
  },
  {
   "cell_type": "code",
   "execution_count": 84,
   "id": "4abaccc8",
   "metadata": {},
   "outputs": [
    {
     "name": "stdout",
     "output_type": "stream",
     "text": [
      "somu yadav\n",
      "Somu Yadav\n",
      "sOMU YADAv\n",
      "Somu yadav\n",
      "SOMU YADAV\n",
      "somu yadav\n"
     ]
    }
   ],
   "source": [
    "r = \"Somu yadaV\"\n",
    "print(r.casefold())\n",
    "print(r.title())\n",
    "print(r.swapcase())\n",
    "print(r.capitalize())\n",
    "print(r.upper())\n",
    "print(r.lower())"
   ]
  },
  {
   "cell_type": "code",
   "execution_count": 88,
   "id": "ace19015",
   "metadata": {},
   "outputs": [
    {
     "name": "stdout",
     "output_type": "stream",
     "text": [
      "['Ramu']\n",
      "somu                \n",
      "                  somu   \n",
      "Ramu\n",
      "somu\n",
      "Ramu   \n"
     ]
    }
   ],
   "source": [
    "y = \"     Ramu   \"\n",
    "t = \"somu   \"\n",
    "print(y.split())\n",
    "print(t.ljust(20))\n",
    "print(t.rjust(25))\n",
    "print(y.strip())\n",
    "print(t.rstrip())\n",
    "print(y.lstrip())"
   ]
  },
  {
   "cell_type": "code",
   "execution_count": 92,
   "id": "93205791",
   "metadata": {},
   "outputs": [
    {
     "name": "stdout",
     "output_type": "stream",
     "text": [
      "['this', 'is', 'a', 'sample', 'program']\n"
     ]
    }
   ],
   "source": [
    "k = \"this is a sample program\"\n",
    "print(k.rsplit())"
   ]
  },
  {
   "cell_type": "code",
   "execution_count": 93,
   "id": "849a0991",
   "metadata": {},
   "outputs": [
    {
     "ename": "TypeError",
     "evalue": "find() takes at least 1 argument (0 given)",
     "output_type": "error",
     "traceback": [
      "\u001b[1;31m---------------------------------------------------------------------------\u001b[0m",
      "\u001b[1;31mTypeError\u001b[0m                                 Traceback (most recent call last)",
      "\u001b[1;32m<ipython-input-93-58187804bc40>\u001b[0m in \u001b[0;36m<module>\u001b[1;34m\u001b[0m\n\u001b[0;32m      1\u001b[0m \u001b[0mp\u001b[0m \u001b[1;33m=\u001b[0m \u001b[1;34m\"rajesh\"\u001b[0m\u001b[1;33m\u001b[0m\u001b[1;33m\u001b[0m\u001b[0m\n\u001b[1;32m----> 2\u001b[1;33m \u001b[0mprint\u001b[0m\u001b[1;33m(\u001b[0m\u001b[0mp\u001b[0m\u001b[1;33m.\u001b[0m\u001b[0mfind\u001b[0m\u001b[1;33m(\u001b[0m\u001b[1;33m)\u001b[0m\u001b[1;33m)\u001b[0m\u001b[1;33m\u001b[0m\u001b[1;33m\u001b[0m\u001b[0m\n\u001b[0m",
      "\u001b[1;31mTypeError\u001b[0m: find() takes at least 1 argument (0 given)"
     ]
    }
   ],
   "source": [
    "p = \"rajesh\"\n",
    "print(p.find())"
   ]
  },
  {
   "cell_type": "code",
   "execution_count": 94,
   "id": "ce19f14c",
   "metadata": {},
   "outputs": [
    {
     "name": "stdout",
     "output_type": "stream",
     "text": [
      "3\n"
     ]
    }
   ],
   "source": [
    "p = \"rajesh\"\n",
    "print(p.find('e'))"
   ]
  },
  {
   "cell_type": "code",
   "execution_count": 95,
   "id": "cf9084cc",
   "metadata": {},
   "outputs": [
    {
     "name": "stdout",
     "output_type": "stream",
     "text": [
      "-1\n"
     ]
    }
   ],
   "source": [
    "p = \"rajesh\"\n",
    "print(p.find('z'))"
   ]
  },
  {
   "cell_type": "code",
   "execution_count": 96,
   "id": "8d68a31c",
   "metadata": {},
   "outputs": [
    {
     "name": "stdout",
     "output_type": "stream",
     "text": [
      "7\n"
     ]
    }
   ],
   "source": [
    "p = \"rajeeshe\"\n",
    "print(p.rfind('e'))"
   ]
  },
  {
   "cell_type": "code",
   "execution_count": 97,
   "id": "4bc6d683",
   "metadata": {},
   "outputs": [
    {
     "name": "stdout",
     "output_type": "stream",
     "text": [
      "-1\n"
     ]
    }
   ],
   "source": [
    "p = \"rajeeshe\"\n",
    "print(p.rfind('w'))"
   ]
  },
  {
   "cell_type": "code",
   "execution_count": 98,
   "id": "ddbb2375",
   "metadata": {},
   "outputs": [
    {
     "ename": "TypeError",
     "evalue": "index() takes at least 1 argument (0 given)",
     "output_type": "error",
     "traceback": [
      "\u001b[1;31m---------------------------------------------------------------------------\u001b[0m",
      "\u001b[1;31mTypeError\u001b[0m                                 Traceback (most recent call last)",
      "\u001b[1;32m<ipython-input-98-23fee2e74fb5>\u001b[0m in \u001b[0;36m<module>\u001b[1;34m\u001b[0m\n\u001b[0;32m      1\u001b[0m \u001b[0mc\u001b[0m \u001b[1;33m=\u001b[0m \u001b[1;34m\"tarun\"\u001b[0m\u001b[1;33m\u001b[0m\u001b[1;33m\u001b[0m\u001b[0m\n\u001b[1;32m----> 2\u001b[1;33m \u001b[0mprint\u001b[0m\u001b[1;33m(\u001b[0m\u001b[0mc\u001b[0m\u001b[1;33m.\u001b[0m\u001b[0mindex\u001b[0m\u001b[1;33m(\u001b[0m\u001b[1;33m)\u001b[0m\u001b[1;33m)\u001b[0m\u001b[1;33m\u001b[0m\u001b[1;33m\u001b[0m\u001b[0m\n\u001b[0m",
      "\u001b[1;31mTypeError\u001b[0m: index() takes at least 1 argument (0 given)"
     ]
    }
   ],
   "source": [
    "c = \"tarun\"\n",
    "print(c.index())"
   ]
  },
  {
   "cell_type": "code",
   "execution_count": 99,
   "id": "5b5bba31",
   "metadata": {},
   "outputs": [
    {
     "ename": "TypeError",
     "evalue": "must be str, not int",
     "output_type": "error",
     "traceback": [
      "\u001b[1;31m---------------------------------------------------------------------------\u001b[0m",
      "\u001b[1;31mTypeError\u001b[0m                                 Traceback (most recent call last)",
      "\u001b[1;32m<ipython-input-99-4ea8b5f4bf70>\u001b[0m in \u001b[0;36m<module>\u001b[1;34m\u001b[0m\n\u001b[0;32m      1\u001b[0m \u001b[0mc\u001b[0m\u001b[1;33m=\u001b[0m\u001b[1;34m\"tarun\"\u001b[0m\u001b[1;33m\u001b[0m\u001b[1;33m\u001b[0m\u001b[0m\n\u001b[1;32m----> 2\u001b[1;33m \u001b[0mprint\u001b[0m\u001b[1;33m(\u001b[0m\u001b[0mc\u001b[0m\u001b[1;33m.\u001b[0m\u001b[0mindex\u001b[0m\u001b[1;33m(\u001b[0m\u001b[1;36m3\u001b[0m\u001b[1;33m)\u001b[0m\u001b[1;33m)\u001b[0m\u001b[1;33m\u001b[0m\u001b[1;33m\u001b[0m\u001b[0m\n\u001b[0m",
      "\u001b[1;31mTypeError\u001b[0m: must be str, not int"
     ]
    }
   ],
   "source": [
    "c=\"tarun\"\n",
    "print(c.index(3))"
   ]
  },
  {
   "cell_type": "code",
   "execution_count": 100,
   "id": "e55e5047",
   "metadata": {},
   "outputs": [
    {
     "ename": "ValueError",
     "evalue": "substring not found",
     "output_type": "error",
     "traceback": [
      "\u001b[1;31m---------------------------------------------------------------------------\u001b[0m",
      "\u001b[1;31mValueError\u001b[0m                                Traceback (most recent call last)",
      "\u001b[1;32m<ipython-input-100-02636c34dd99>\u001b[0m in \u001b[0;36m<module>\u001b[1;34m\u001b[0m\n\u001b[0;32m      1\u001b[0m \u001b[0mc\u001b[0m\u001b[1;33m=\u001b[0m\u001b[1;34m\"tarun\"\u001b[0m\u001b[1;33m\u001b[0m\u001b[1;33m\u001b[0m\u001b[0m\n\u001b[1;32m----> 2\u001b[1;33m \u001b[0mprint\u001b[0m\u001b[1;33m(\u001b[0m\u001b[0mc\u001b[0m\u001b[1;33m.\u001b[0m\u001b[0mindex\u001b[0m\u001b[1;33m(\u001b[0m\u001b[1;34m'3'\u001b[0m\u001b[1;33m)\u001b[0m\u001b[1;33m)\u001b[0m\u001b[1;33m\u001b[0m\u001b[1;33m\u001b[0m\u001b[0m\n\u001b[0m",
      "\u001b[1;31mValueError\u001b[0m: substring not found"
     ]
    }
   ],
   "source": [
    "c=\"tarun\"\n",
    "print(c.index('3'))"
   ]
  },
  {
   "cell_type": "code",
   "execution_count": 101,
   "id": "de0f0480",
   "metadata": {},
   "outputs": [
    {
     "name": "stdout",
     "output_type": "stream",
     "text": [
      "2\n"
     ]
    }
   ],
   "source": [
    "c=\"tarun\"\n",
    "print(c.index('r'))"
   ]
  },
  {
   "cell_type": "code",
   "execution_count": 102,
   "id": "3ad76172",
   "metadata": {},
   "outputs": [
    {
     "ename": "ValueError",
     "evalue": "substring not found",
     "output_type": "error",
     "traceback": [
      "\u001b[1;31m---------------------------------------------------------------------------\u001b[0m",
      "\u001b[1;31mValueError\u001b[0m                                Traceback (most recent call last)",
      "\u001b[1;32m<ipython-input-102-a3897ff0d1e5>\u001b[0m in \u001b[0;36m<module>\u001b[1;34m\u001b[0m\n\u001b[0;32m      1\u001b[0m \u001b[0mc\u001b[0m\u001b[1;33m=\u001b[0m\u001b[1;34m\"tarun\"\u001b[0m\u001b[1;33m\u001b[0m\u001b[1;33m\u001b[0m\u001b[0m\n\u001b[1;32m----> 2\u001b[1;33m \u001b[0mprint\u001b[0m\u001b[1;33m(\u001b[0m\u001b[0mc\u001b[0m\u001b[1;33m.\u001b[0m\u001b[0mindex\u001b[0m\u001b[1;33m(\u001b[0m\u001b[1;34m'z'\u001b[0m\u001b[1;33m)\u001b[0m\u001b[1;33m)\u001b[0m\u001b[1;33m\u001b[0m\u001b[1;33m\u001b[0m\u001b[0m\n\u001b[0m",
      "\u001b[1;31mValueError\u001b[0m: substring not found"
     ]
    }
   ],
   "source": [
    "c=\"tarun\"\n",
    "print(c.index('z'))"
   ]
  },
  {
   "cell_type": "code",
   "execution_count": 103,
   "id": "356b5cf0",
   "metadata": {},
   "outputs": [
    {
     "name": "stdout",
     "output_type": "stream",
     "text": [
      "6\n"
     ]
    }
   ],
   "source": [
    "r = \"rajeshe\"\n",
    "print(r.rindex('e'))"
   ]
  },
  {
   "cell_type": "code",
   "execution_count": 104,
   "id": "da6705c0",
   "metadata": {},
   "outputs": [
    {
     "ename": "ValueError",
     "evalue": "substring not found",
     "output_type": "error",
     "traceback": [
      "\u001b[1;31m---------------------------------------------------------------------------\u001b[0m",
      "\u001b[1;31mValueError\u001b[0m                                Traceback (most recent call last)",
      "\u001b[1;32m<ipython-input-104-5e073a99d26e>\u001b[0m in \u001b[0;36m<module>\u001b[1;34m\u001b[0m\n\u001b[0;32m      1\u001b[0m \u001b[0mr\u001b[0m \u001b[1;33m=\u001b[0m \u001b[1;34m\"rajeshe\"\u001b[0m\u001b[1;33m\u001b[0m\u001b[1;33m\u001b[0m\u001b[0m\n\u001b[1;32m----> 2\u001b[1;33m \u001b[0mprint\u001b[0m\u001b[1;33m(\u001b[0m\u001b[0mr\u001b[0m\u001b[1;33m.\u001b[0m\u001b[0mrindex\u001b[0m\u001b[1;33m(\u001b[0m\u001b[1;34m'w'\u001b[0m\u001b[1;33m)\u001b[0m\u001b[1;33m)\u001b[0m\u001b[1;33m\u001b[0m\u001b[1;33m\u001b[0m\u001b[0m\n\u001b[0m",
      "\u001b[1;31mValueError\u001b[0m: substring not found"
     ]
    }
   ],
   "source": [
    "r = \"rajeshe\"\n",
    "print(r.rindex('w'))"
   ]
  },
  {
   "cell_type": "code",
   "execution_count": 106,
   "id": "aac82d06",
   "metadata": {},
   "outputs": [
    {
     "name": "stdout",
     "output_type": "stream",
     "text": [
      "tarun\n",
      "t-a-r-u-n\n"
     ]
    }
   ],
   "source": [
    "p = \"tarun\"\n",
    "print(p)\n",
    "p=\"-\".join(p)\n",
    "print(p)"
   ]
  },
  {
   "cell_type": "code",
   "execution_count": 109,
   "id": "83b55b91",
   "metadata": {},
   "outputs": [
    {
     "name": "stdout",
     "output_type": "stream",
     "text": [
      "                     prasad                       \n",
      "pr$s$d \n",
      "0000000000000000000000000000000000000000000prasad \n"
     ]
    }
   ],
   "source": [
    "y = \"prasad \"\n",
    "print(y.center(50))\n",
    "print(y.replace('a','$'))\n",
    "print(y.zfill(50))"
   ]
  },
  {
   "cell_type": "markdown",
   "id": "58082d32",
   "metadata": {},
   "source": [
    "## Functions:\n",
    "    - To Perform a specific Task\n",
    "    - It consists of 2 types they are:\n",
    "        -> Built-in[pre-defined]\n",
    "        -> User defined\n",
    "    - Built-in => these functions are fixed with some tasks\n",
    "    - User defined => users need to perform some task for it\n",
    "    - In User Defined functions it consists of 4 types they are:\n",
    "        => with arguments and with return type\n",
    "            ** Reading: Main\n",
    "            ** Printing: Main\n",
    "            ** Logic: Function\n",
    "        => with arguments and without return type\n",
    "            ** Reading: Main\n",
    "            ** Printing: Function\n",
    "            ** Logic: Function\n",
    "        => without arguments and with return type\n",
    "            ** Reading: Function\n",
    "            ** Printing: Main\n",
    "            ** Logic: Function\n",
    "        => without arguments and without return type\n",
    "            ** Reading: Function\n",
    "            ** Printing: Function\n",
    "            ** Logic: Function\n",
    "      - By Passing arguments to a function it is divided into 4 types they are\n",
    "          ==> Required/Positional Arguments\n",
    "          ==> Default Arguments\n",
    "          ==> Keyword Arguments\n",
    "          ==> Variable-Length Arguments"
   ]
  },
  {
   "cell_type": "markdown",
   "id": "96914cd2",
   "metadata": {},
   "source": [
    "## Function:\n",
    "    Syntax:\n",
    "    def function_name(arguents):\n",
    "        //stmnts\n",
    "        return return_value"
   ]
  },
  {
   "cell_type": "code",
   "execution_count": 113,
   "id": "dcb9467a",
   "metadata": {},
   "outputs": [
    {
     "name": "stdout",
     "output_type": "stream",
     "text": [
      "15 2 6 89 7\n",
      "Even numbers are:  2 6 "
     ]
    }
   ],
   "source": [
    "# With return_type and with arguments\n",
    "\n",
    "def Evennumbers(p):\n",
    "    m = []\n",
    "    for k in p:\n",
    "        if k%2==0:\n",
    "            m.append(k)\n",
    "    return m\n",
    "\n",
    "k = input().split()\n",
    "t = []\n",
    "for j in k:\n",
    "    t.append(int(j))\n",
    "print(\"Even numbers are: \",end=\" \")\n",
    "f = Evennumbers(t)\n",
    "for y in f:\n",
    "    print(y,end=\" \")"
   ]
  },
  {
   "cell_type": "code",
   "execution_count": 117,
   "id": "621f8415",
   "metadata": {},
   "outputs": [
    {
     "name": "stdout",
     "output_type": "stream",
     "text": [
      "3\n",
      "Odd\n"
     ]
    }
   ],
   "source": [
    "# with return type and without arguments\n",
    "\n",
    "def Odd_numbers():\n",
    "    n = int(input())\n",
    "    if n%2!=0:\n",
    "        return True\n",
    "    return False\n",
    "\n",
    "g = Odd_numbers()\n",
    "if g == True:\n",
    "    print(\"Odd\")\n",
    "else:\n",
    "    print(\"Even\")"
   ]
  },
  {
   "cell_type": "code",
   "execution_count": 120,
   "id": "35edb171",
   "metadata": {},
   "outputs": [
    {
     "name": "stdout",
     "output_type": "stream",
     "text": [
      "2\n",
      "Not an alphabet\n"
     ]
    }
   ],
   "source": [
    "# without return type and with arguments  \n",
    "\n",
    "def isalphabet(p):\n",
    "    if p.isalpha():\n",
    "        print(\"It is alphabet\")\n",
    "    else:\n",
    "        print(\"Not an alphabet\")\n",
    "    return\n",
    "\n",
    "n = input()\n",
    "isalphabet(n)"
   ]
  },
  {
   "cell_type": "code",
   "execution_count": 127,
   "id": "b3c29133",
   "metadata": {},
   "outputs": [
    {
     "name": "stdout",
     "output_type": "stream",
     "text": [
      "tarn yadav\n",
      "T.Yadav\n"
     ]
    }
   ],
   "source": [
    "# without return type and without arguments\n",
    "\n",
    "def naming():\n",
    "    n = input().split()\n",
    "    m = n[0][0].upper()+\".\"+n[1][0].upper()+n[1][1:].lower()\n",
    "    print(m)\n",
    "    return\n",
    "\n",
    "naming()"
   ]
  },
  {
   "cell_type": "markdown",
   "id": "fb5561f3",
   "metadata": {},
   "source": [
    "## Required/Positional arguments:"
   ]
  },
  {
   "cell_type": "code",
   "execution_count": 129,
   "id": "421d1fe9",
   "metadata": {},
   "outputs": [
    {
     "name": "stdout",
     "output_type": "stream",
     "text": [
      "4\n",
      "9\n",
      "8\n"
     ]
    },
    {
     "ename": "TypeError",
     "evalue": "add() takes 2 positional arguments but 3 were given",
     "output_type": "error",
     "traceback": [
      "\u001b[1;31m---------------------------------------------------------------------------\u001b[0m",
      "\u001b[1;31mTypeError\u001b[0m                                 Traceback (most recent call last)",
      "\u001b[1;32m<ipython-input-129-2a00007c4ed7>\u001b[0m in \u001b[0;36m<module>\u001b[1;34m\u001b[0m\n\u001b[0;32m      5\u001b[0m \u001b[0mm\u001b[0m \u001b[1;33m=\u001b[0m \u001b[0mint\u001b[0m\u001b[1;33m(\u001b[0m\u001b[0minput\u001b[0m\u001b[1;33m(\u001b[0m\u001b[1;33m)\u001b[0m\u001b[1;33m)\u001b[0m\u001b[1;33m\u001b[0m\u001b[1;33m\u001b[0m\u001b[0m\n\u001b[0;32m      6\u001b[0m \u001b[0mp\u001b[0m \u001b[1;33m=\u001b[0m \u001b[0mint\u001b[0m\u001b[1;33m(\u001b[0m\u001b[0minput\u001b[0m\u001b[1;33m(\u001b[0m\u001b[1;33m)\u001b[0m\u001b[1;33m)\u001b[0m\u001b[1;33m\u001b[0m\u001b[1;33m\u001b[0m\u001b[0m\n\u001b[1;32m----> 7\u001b[1;33m \u001b[0mprint\u001b[0m\u001b[1;33m(\u001b[0m\u001b[0madd\u001b[0m\u001b[1;33m(\u001b[0m\u001b[0mk\u001b[0m\u001b[1;33m,\u001b[0m\u001b[0mm\u001b[0m\u001b[1;33m,\u001b[0m\u001b[0mp\u001b[0m\u001b[1;33m)\u001b[0m\u001b[1;33m)\u001b[0m\u001b[1;33m\u001b[0m\u001b[1;33m\u001b[0m\u001b[0m\n\u001b[0m",
      "\u001b[1;31mTypeError\u001b[0m: add() takes 2 positional arguments but 3 were given"
     ]
    }
   ],
   "source": [
    "def add(a,c):\n",
    "    return a+c\n",
    "\n",
    "k = int(input())\n",
    "m = int(input())\n",
    "p = int(input())\n",
    "print(add(k,m,p))"
   ]
  },
  {
   "cell_type": "markdown",
   "id": "0dc91806",
   "metadata": {},
   "source": [
    "# Default arguments:"
   ]
  },
  {
   "cell_type": "code",
   "execution_count": 133,
   "id": "deaff85d",
   "metadata": {},
   "outputs": [
    {
     "name": "stdout",
     "output_type": "stream",
     "text": [
      "yadav\n",
      "20\n",
      "Entered Name is: yadav\n",
      "Age is: 20\n"
     ]
    }
   ],
   "source": [
    "def name1(stu,age=50):\n",
    "    print(\"Entered Name is: {}\\nAge is: {}\".format(stu,age))\n",
    "    return \n",
    "\n",
    "k = input()\n",
    "p = int(input())\n",
    "name1(k,p)\n",
    "# name1(k,p)"
   ]
  },
  {
   "cell_type": "markdown",
   "id": "6c592079",
   "metadata": {},
   "source": [
    "## Keyword arguement"
   ]
  },
  {
   "cell_type": "code",
   "execution_count": 137,
   "id": "7a3bd235",
   "metadata": {},
   "outputs": [
    {
     "ename": "TypeError",
     "evalue": "std() missing 1 required positional argument: 'p'",
     "output_type": "error",
     "traceback": [
      "\u001b[1;31m---------------------------------------------------------------------------\u001b[0m",
      "\u001b[1;31mTypeError\u001b[0m                                 Traceback (most recent call last)",
      "\u001b[1;32m<ipython-input-137-ef461dba45d5>\u001b[0m in \u001b[0;36m<module>\u001b[1;34m\u001b[0m\n\u001b[0;32m      7\u001b[0m \u001b[1;31m# p = input()\u001b[0m\u001b[1;33m\u001b[0m\u001b[1;33m\u001b[0m\u001b[1;33m\u001b[0m\u001b[0m\n\u001b[0;32m      8\u001b[0m \u001b[1;31m# a = int(input())\u001b[0m\u001b[1;33m\u001b[0m\u001b[1;33m\u001b[0m\u001b[1;33m\u001b[0m\u001b[0m\n\u001b[1;32m----> 9\u001b[1;33m \u001b[0mstd\u001b[0m\u001b[1;33m(\u001b[0m\u001b[0mj\u001b[0m\u001b[1;33m=\u001b[0m\u001b[1;34m'tarun'\u001b[0m\u001b[1;33m)\u001b[0m\u001b[1;33m\u001b[0m\u001b[1;33m\u001b[0m\u001b[0m\n\u001b[0m",
      "\u001b[1;31mTypeError\u001b[0m: std() missing 1 required positional argument: 'p'"
     ]
    }
   ],
   "source": [
    "def std(j,p,a=20):\n",
    "    print(\"Your name is: {}\\nYour age is: {}\\nYour Sal is: {}\"\n",
    "         .format(j,a,p))\n",
    "    return\n",
    "\n",
    "# j = input()\n",
    "# p = input()\n",
    "# a = int(input())\n",
    "std(j='tarun')"
   ]
  },
  {
   "cell_type": "code",
   "execution_count": 138,
   "id": "e477d8ea",
   "metadata": {},
   "outputs": [
    {
     "name": "stdout",
     "output_type": "stream",
     "text": [
      "Your name is: tarun\n",
      "Your age is: 20\n",
      "Your Sal is: 5600\n"
     ]
    }
   ],
   "source": [
    "def std(j,p,a=20):\n",
    "    print(\"Your name is: {}\\nYour age is: {}\\nYour Sal is: {}\"\n",
    "         .format(j,a,p))\n",
    "    return\n",
    "\n",
    "# j = input()\n",
    "# p = input()\n",
    "# a = int(input())\n",
    "std(j='tarun',p=5600)"
   ]
  },
  {
   "cell_type": "markdown",
   "id": "1565cc3e",
   "metadata": {},
   "source": [
    "## Variable-Length Argument:"
   ]
  },
  {
   "cell_type": "code",
   "execution_count": 143,
   "id": "c933e52d",
   "metadata": {},
   "outputs": [
    {
     "name": "stdout",
     "output_type": "stream",
     "text": [
      "1 5 9\n",
      "8 9 5\n",
      "4 7 85\n",
      "['1', '5', '9'] <class 'list'> (['8', '9', '5'], ['4', '7', '85']) <class 'tuple'> {} <class 'dict'>\n"
     ]
    }
   ],
   "source": [
    "def roll(t,*p,**k):\n",
    "    print(t,type(t),p,type(p),k,type(k))\n",
    "    return\n",
    "\n",
    "n = input().split()\n",
    "u = input().split()\n",
    "a = input().split()\n",
    "roll(n,u,a)"
   ]
  },
  {
   "cell_type": "code",
   "execution_count": 145,
   "id": "2a21c526",
   "metadata": {},
   "outputs": [
    {
     "name": "stdout",
     "output_type": "stream",
     "text": [
      "1 2 \n",
      "5 9 8\n",
      "{'1': ['5', '9', '8'], '2': ['5', '9', '8']}\n"
     ]
    }
   ],
   "source": [
    "j = input().split()\n",
    "s = input().split()\n",
    "f = {}\n",
    "for t in j:\n",
    "    d=[]\n",
    "    for w in s:\n",
    "        d.append(w)\n",
    "    f[t] = d\n",
    "print(f)"
   ]
  },
  {
   "cell_type": "code",
   "execution_count": null,
   "id": "5d1f6288",
   "metadata": {},
   "outputs": [],
   "source": []
  }
 ],
 "metadata": {
  "kernelspec": {
   "display_name": "Python 3",
   "language": "python",
   "name": "python3"
  },
  "language_info": {
   "codemirror_mode": {
    "name": "ipython",
    "version": 3
   },
   "file_extension": ".py",
   "mimetype": "text/x-python",
   "name": "python",
   "nbconvert_exporter": "python",
   "pygments_lexer": "ipython3",
   "version": "3.7.5"
  }
 },
 "nbformat": 4,
 "nbformat_minor": 5
}

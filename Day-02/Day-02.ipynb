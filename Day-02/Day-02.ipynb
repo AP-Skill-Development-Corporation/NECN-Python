{
 "cells": [
  {
   "cell_type": "markdown",
   "id": "68a5ba2b",
   "metadata": {},
   "source": [
    "# Python Basics\n",
    "## variables\n",
    "### input()\n",
    "#### output\n",
    "##### .format\n",
    "###### sample\n",
    "####### This is not a markdown file syntax"
   ]
  },
  {
   "cell_type": "markdown",
   "id": "46309848",
   "metadata": {},
   "source": [
    "# Python"
   ]
  },
  {
   "cell_type": "markdown",
   "id": "41fdd808",
   "metadata": {},
   "source": [
    "## Variables:\n",
    "    - To Store a Value\n",
    "    - To Change a Value"
   ]
  },
  {
   "cell_type": "code",
   "execution_count": 2,
   "id": "d47f4959",
   "metadata": {},
   "outputs": [
    {
     "data": {
      "text/plain": [
       "30.25"
      ]
     },
     "execution_count": 2,
     "metadata": {},
     "output_type": "execute_result"
    }
   ],
   "source": [
    "a = 30.25\n",
    "a"
   ]
  },
  {
   "cell_type": "code",
   "execution_count": 4,
   "id": "8605ec0e",
   "metadata": {},
   "outputs": [
    {
     "data": {
      "text/plain": [
       "(30.25, 20, 'Ramu')"
      ]
     },
     "execution_count": 4,
     "metadata": {},
     "output_type": "execute_result"
    }
   ],
   "source": [
    "b = 20\n",
    "c = \"Ramu\"\n",
    "a,b,c"
   ]
  },
  {
   "cell_type": "code",
   "execution_count": 5,
   "id": "c647b63e",
   "metadata": {},
   "outputs": [
    {
     "name": "stdout",
     "output_type": "stream",
     "text": [
      "30.25 Ramu 20\n"
     ]
    }
   ],
   "source": [
    "print(a,c,b)"
   ]
  },
  {
   "cell_type": "code",
   "execution_count": 6,
   "id": "d63e0d4e",
   "metadata": {},
   "outputs": [
    {
     "name": "stdout",
     "output_type": "stream",
     "text": [
      "20\n"
     ]
    }
   ],
   "source": [
    "k = '20'\n",
    "print(k)"
   ]
  },
  {
   "cell_type": "code",
   "execution_count": 7,
   "id": "230f00cb",
   "metadata": {},
   "outputs": [
    {
     "name": "stdout",
     "output_type": "stream",
     "text": [
      "20.56 20 45 prasad\n"
     ]
    }
   ],
   "source": [
    "c,b,y,u = 20,20.56,'prasad','45'\n",
    "print(b,c,u,y)"
   ]
  },
  {
   "cell_type": "markdown",
   "id": "3b6dcdd9",
   "metadata": {},
   "source": [
    "## Type\n",
    "    - To Check the data type for a particular variable\n",
    "    "
   ]
  },
  {
   "cell_type": "code",
   "execution_count": 9,
   "id": "9f67b973",
   "metadata": {},
   "outputs": [
    {
     "name": "stdout",
     "output_type": "stream",
     "text": [
      "20 20.56 30.25 <class 'int'> <class 'float'> <class 'float'>\n"
     ]
    }
   ],
   "source": [
    "print(c,b,a,type(c),type(b),type(a))"
   ]
  },
  {
   "cell_type": "code",
   "execution_count": 10,
   "id": "2936a33a",
   "metadata": {},
   "outputs": [
    {
     "name": "stdout",
     "output_type": "stream",
     "text": [
      "45 <class 'str'>\n"
     ]
    }
   ],
   "source": [
    "print(u,type(u))"
   ]
  },
  {
   "cell_type": "markdown",
   "id": "8151a6d0",
   "metadata": {},
   "source": [
    "## Data Types:\n",
    "    - int -> It stores only numeric values\n",
    "    - float -> It stores only decimal values\n",
    "    - string -> It can be displays as string by enclosed with ' or \"\n",
    "    - complex -> Real and imaginary parts"
   ]
  },
  {
   "cell_type": "code",
   "execution_count": null,
   "id": "366d536e",
   "metadata": {},
   "outputs": [],
   "source": []
  }
 ],
 "metadata": {
  "kernelspec": {
   "display_name": "Python 3",
   "language": "python",
   "name": "python3"
  },
  "language_info": {
   "codemirror_mode": {
    "name": "ipython",
    "version": 3
   },
   "file_extension": ".py",
   "mimetype": "text/x-python",
   "name": "python",
   "nbconvert_exporter": "python",
   "pygments_lexer": "ipython3",
   "version": "3.7.5"
  }
 },
 "nbformat": 4,
 "nbformat_minor": 5
}

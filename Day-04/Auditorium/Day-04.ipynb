{
 "cells": [
  {
   "cell_type": "code",
   "execution_count": 5,
   "id": "89a1c8fb",
   "metadata": {},
   "outputs": [
    {
     "name": "stdout",
     "output_type": "stream",
     "text": [
      "Enter starting range number: 200\n",
      "Enter ending range number: 100\n",
      "Enter stepping value: 2\n"
     ]
    }
   ],
   "source": [
    "n = int(input(\"Enter starting range number: \"))\n",
    "m = int(input(\"Enter ending range number: \"))\n",
    "s = int(input(\"Enter stepping value: \"))\n",
    "for i in range(n,m,s):\n",
    "    print(i,end=\" \")"
   ]
  },
  {
   "cell_type": "code",
   "execution_count": 8,
   "id": "0d9a2fe5",
   "metadata": {},
   "outputs": [
    {
     "name": "stdout",
     "output_type": "stream",
     "text": [
      "20\n",
      "0 1 2 3 4 5 6 7 8 9 10 11 12 13 14 15 16 17 18 19 "
     ]
    }
   ],
   "source": [
    "k = int(input())\n",
    "for j in range(k):\n",
    "    print(j,end=\" \")"
   ]
  },
  {
   "cell_type": "code",
   "execution_count": 12,
   "id": "3f309c9c",
   "metadata": {},
   "outputs": [
    {
     "name": "stdout",
     "output_type": "stream",
     "text": [
      "10\n",
      "20\n",
      "20 19 18 17 16 15 14 13 12 11 "
     ]
    }
   ],
   "source": [
    "m = int(input())\n",
    "n = int(input())\n",
    "for i in range(n,m,-1):\n",
    "    print(i,end=\" \")"
   ]
  },
  {
   "cell_type": "markdown",
   "id": "355a5663",
   "metadata": {},
   "source": [
    "## While:\n",
    "    - It acts like for to print in forward and backward.\n",
    "    - It is like infinity loop \n",
    "    Syntax:\n",
    "        variable initialisation\n",
    "        while (condition):\n",
    "            //stmnts\n",
    "            //incr/decr"
   ]
  },
  {
   "cell_type": "code",
   "execution_count": 14,
   "id": "0c19b090",
   "metadata": {},
   "outputs": [
    {
     "name": "stdout",
     "output_type": "stream",
     "text": [
      "10\n",
      "0 1 2 3 4 5 6 7 8 9 "
     ]
    }
   ],
   "source": [
    "k = int(input())\n",
    "i = 0 \n",
    "while i!=k:\n",
    "    print(i,end=\" \")\n",
    "    i = i+1"
   ]
  },
  {
   "cell_type": "code",
   "execution_count": 15,
   "id": "8adf79cb",
   "metadata": {},
   "outputs": [
    {
     "name": "stdout",
     "output_type": "stream",
     "text": [
      "20\n",
      "20 19 18 17 16 15 14 13 12 11 10 9 8 7 6 5 4 3 2 1 "
     ]
    }
   ],
   "source": [
    "k = int(input())\n",
    "i = k \n",
    "while i!=0:\n",
    "    print(i,end=\" \")\n",
    "    i = i-1"
   ]
  },
  {
   "cell_type": "markdown",
   "id": "72dd7548",
   "metadata": {},
   "source": [
    "```\n",
    "Input: 1234\n",
    "Output:\n",
    "    Given number is: 1234 \n",
    "    Reverse of given number 1234 is: 4321 \n",
    "```"
   ]
  },
  {
   "cell_type": "code",
   "execution_count": 18,
   "id": "7360b4a5",
   "metadata": {},
   "outputs": [
    {
     "name": "stdout",
     "output_type": "stream",
     "text": [
      "1234\n",
      "Given number is: 1234\n",
      "Reverse of given number 1234 is: 4321\n"
     ]
    }
   ],
   "source": [
    "m,r = int(input()),0\n",
    "print(\"Given number is: {}\".format(m))\n",
    "print(\"Reverse of given number {}\".format(m),end=\" \")\n",
    "while m!=0:\n",
    "    r = r*10+m%10\n",
    "    m //= 10\n",
    "print(\"is: {}\".format(r))"
   ]
  },
  {
   "cell_type": "markdown",
   "id": "06906b9e",
   "metadata": {},
   "source": [
    "```\n",
    "Input: 1234\n",
    "Output:\n",
    "    Given number is: 1234 \n",
    "    Reverse of given number 1234 is: 4321\n",
    "    Even numbers in 1234 is: 2 4\n",
    "```"
   ]
  },
  {
   "cell_type": "code",
   "execution_count": 31,
   "id": "f29a9e7f",
   "metadata": {},
   "outputs": [
    {
     "name": "stdout",
     "output_type": "stream",
     "text": [
      "124578\n",
      "Given number is: 124578\n",
      "Reverse of given number 124578 is: 875421\n",
      "Even numbers in 124578 is: 2 4 8 \n",
      "Even numbers count is: 3\n"
     ]
    }
   ],
   "source": [
    "b = int(input())\n",
    "n = y = r = c= 0\n",
    "s = b\n",
    "print(\"Given number is: {}\\nReverse of given number {} is:\"\n",
    "      .format(b,b),end=\" \")\n",
    "while b!=0:\n",
    "    j = b%10\n",
    "    if j%2==0:\n",
    "        n = n*10+j\n",
    "    r = r*10+j\n",
    "    b //=10\n",
    "print(\"{}\\nEven numbers in {} is:\".format(r,s),end=\" \")\n",
    "while n!=0:\n",
    "    print(n%10,end=\" \")\n",
    "    y = y*10+n%10\n",
    "    c = c+1\n",
    "    n //=10\n",
    "print(\"\\nEven numbers count is: {}\".format(c))"
   ]
  },
  {
   "cell_type": "markdown",
   "id": "a521c39e",
   "metadata": {},
   "source": [
    "## Jumping Statements:\n",
    "```\n",
    "    - To control the flow of execution with conditional statements\n",
    "    - This statements should be used only in Loops. \n",
    "    -> break\n",
    "    -> continue\n",
    "    -> pass\n",
    "    -> return\n",
    "```"
   ]
  },
  {
   "cell_type": "code",
   "execution_count": 32,
   "id": "b0a96cb6",
   "metadata": {},
   "outputs": [
    {
     "name": "stdout",
     "output_type": "stream",
     "text": [
      "20\n",
      "0 1 "
     ]
    }
   ],
   "source": [
    "n = int(input())\n",
    "for i in range(n):\n",
    "    if i == 2:\n",
    "        break\n",
    "    print(i,end=\" \")"
   ]
  },
  {
   "cell_type": "code",
   "execution_count": 33,
   "id": "f93c0394",
   "metadata": {},
   "outputs": [
    {
     "name": "stdout",
     "output_type": "stream",
     "text": [
      "10\n",
      "0 1 3 4 5 6 7 8 9 "
     ]
    }
   ],
   "source": [
    "n = int(input())\n",
    "for i in range(n):\n",
    "    if i == 2:\n",
    "        continue\n",
    "    print(i,end=\" \")"
   ]
  },
  {
   "cell_type": "code",
   "execution_count": 37,
   "id": "c004d62a",
   "metadata": {},
   "outputs": [
    {
     "name": "stdout",
     "output_type": "stream",
     "text": [
      "10\n",
      "0 1 2 "
     ]
    }
   ],
   "source": [
    "n = int(input())\n",
    "for i in range(n):\n",
    "    if i <= 2:\n",
    "        print(i,end=\" \")\n",
    "        pass"
   ]
  },
  {
   "cell_type": "markdown",
   "id": "7a65ee7d",
   "metadata": {},
   "source": [
    "## Inner Loops:\n",
    "    - Loop within a loop\n",
    "    Syntax:\n",
    "        for iterationvariablename in range():\n",
    "           for iterationvariablename in range():\n",
    "               //columns statements\n",
    "           // rows statements\n",
    "    - we can use either for or while in inner loops concept"
   ]
  },
  {
   "cell_type": "code",
   "execution_count": 43,
   "id": "6f7b5566",
   "metadata": {},
   "outputs": [
    {
     "name": "stdout",
     "output_type": "stream",
     "text": [
      "5\n",
      "0 1 2 3 4 \n",
      "0 1 2 3 4 \n",
      "0 1 2 3 4 \n",
      "0 1 2 3 4 \n",
      "0 1 2 3 4 \n"
     ]
    }
   ],
   "source": [
    "r = int(input())\n",
    "for i in range(r):\n",
    "    for j in range(r):\n",
    "        print(j,end=\" \")\n",
    "    print(end=\"\\n\")"
   ]
  },
  {
   "cell_type": "code",
   "execution_count": 46,
   "id": "30940205",
   "metadata": {},
   "outputs": [
    {
     "name": "stdout",
     "output_type": "stream",
     "text": [
      "5\n",
      "01 02 03 04 05 \n",
      "06 07 08 09 10 \n",
      "11 12 13 14 15 \n",
      "16 17 18 19 20 \n",
      "21 22 23 24 25 \n"
     ]
    }
   ],
   "source": [
    "h = int(input())\n",
    "a = 0\n",
    "\n",
    "for i in range(h):\n",
    "    for j in range(h):\n",
    "        print(\"{:02}\".format(a+1),end=\" \")\n",
    "        a += 1\n",
    "    print(end=\"\\n\")"
   ]
  },
  {
   "cell_type": "code",
   "execution_count": 48,
   "id": "f425e811",
   "metadata": {},
   "outputs": [
    {
     "name": "stdout",
     "output_type": "stream",
     "text": [
      "5\n",
      "20\n",
      "01 02 03 04 05 \n",
      "06 07 08 09 10 \n",
      "11 12 13 14 15 \n",
      "16 17 18 19 ** \n",
      "21 22 23 24 25 \n"
     ]
    }
   ],
   "source": [
    "h = int(input())\n",
    "d = int(input())\n",
    "a = 0\n",
    "for i in range(h):\n",
    "    for j in range(h):\n",
    "        if a+1 == d:\n",
    "            print(\"**\",end=\" \")\n",
    "        else:\n",
    "            print(\"{:02}\".format(a+1),end=\" \")\n",
    "        a += 1\n",
    "    print(end=\"\\n\")"
   ]
  },
  {
   "cell_type": "code",
   "execution_count": 60,
   "id": "11bb1a40",
   "metadata": {},
   "outputs": [
    {
     "name": "stdout",
     "output_type": "stream",
     "text": [
      "() ** || ** [] ** () \n",
      "** () || && ** && ** \n",
      ":: ** || ** && ** {} \n",
      "$$ $$ || $$ $$ $$ $$ \n",
      "&& ** || \n"
     ]
    }
   ],
   "source": [
    "g = 1\n",
    "for i in range(1,6):\n",
    "    for j in range(1,8):\n",
    "        if g > 31:\n",
    "            break\n",
    "        else:\n",
    "            if j == 3:\n",
    "                print(\"||\",end=\" \")\n",
    "            elif i == 4:\n",
    "                print(\"$$\",end=\" \")\n",
    "            elif g%5==0 and g<=10:\n",
    "                print(\"[]\",end=\" \")\n",
    "            elif g%2==0:\n",
    "                print(\"**\",end=\" \")\n",
    "            elif g<10:\n",
    "                print(\"()\",end=\" \")\n",
    "            elif g%7==0:\n",
    "                print(\"{}\",end=\" \")\n",
    "            elif g%3==0:\n",
    "                print(\"::\",end=\" \")\n",
    "            else:\n",
    "                print(\"&&\",end=\" \")\n",
    "        g += 1 \n",
    "    print(end=\"\\n\")"
   ]
  },
  {
   "cell_type": "markdown",
   "id": "9f147efc",
   "metadata": {},
   "source": [
    "## Python Data structures\n",
    "    - List\n",
    "    - Tuple\n",
    "    - Set\n",
    "    - Dictionary\n",
    "    - String"
   ]
  },
  {
   "cell_type": "markdown",
   "id": "b1e715f1",
   "metadata": {},
   "source": [
    "# List:\n",
    "```\n",
    "    - It can be represented as \"[]\"\n",
    "    - Duplicates can be allowed\n",
    "    - Slicing can be done because of index\n",
    "    - It can be typecast by using list()\n",
    "    - It stores the values in ordered format\n",
    "    - The values in a list can be changes\n",
    "```"
   ]
  },
  {
   "cell_type": "code",
   "execution_count": 61,
   "id": "b3379e01",
   "metadata": {},
   "outputs": [
    {
     "name": "stdout",
     "output_type": "stream",
     "text": [
      "[2, 45.0, 'raju', '45'] <class 'list'>\n"
     ]
    }
   ],
   "source": [
    "k = [2,45.0,\"raju\",'45']\n",
    "print(k,type(k))"
   ]
  },
  {
   "cell_type": "code",
   "execution_count": 62,
   "id": "c18f1db4",
   "metadata": {},
   "outputs": [
    {
     "name": "stdout",
     "output_type": "stream",
     "text": [
      "['__add__', '__class__', '__contains__', '__delattr__', '__delitem__', '__dir__', '__doc__', '__eq__', '__format__', '__ge__', '__getattribute__', '__getitem__', '__gt__', '__hash__', '__iadd__', '__imul__', '__init__', '__init_subclass__', '__iter__', '__le__', '__len__', '__lt__', '__mul__', '__ne__', '__new__', '__reduce__', '__reduce_ex__', '__repr__', '__reversed__', '__rmul__', '__setattr__', '__setitem__', '__sizeof__', '__str__', '__subclasshook__', 'append', 'clear', 'copy', 'count', 'extend', 'index', 'insert', 'pop', 'remove', 'reverse', 'sort']\n"
     ]
    }
   ],
   "source": [
    "print(dir(list))"
   ]
  },
  {
   "cell_type": "code",
   "execution_count": 63,
   "id": "cc910961",
   "metadata": {},
   "outputs": [
    {
     "name": "stdout",
     "output_type": "stream",
     "text": [
      "[3, 6, 7] [2, 45.0, 'raju', '45', [3, 6, 7]]\n"
     ]
    }
   ],
   "source": [
    "n = [3,6,7]\n",
    "k.append(n)\n",
    "print(n,k)"
   ]
  },
  {
   "cell_type": "code",
   "execution_count": 64,
   "id": "6a00a54e",
   "metadata": {},
   "outputs": [
    {
     "ename": "TypeError",
     "evalue": "append() takes exactly one argument (4 given)",
     "output_type": "error",
     "traceback": [
      "\u001b[1;31m---------------------------------------------------------------------------\u001b[0m",
      "\u001b[1;31mTypeError\u001b[0m                                 Traceback (most recent call last)",
      "\u001b[1;32m<ipython-input-64-b0b2beb690e5>\u001b[0m in \u001b[0;36m<module>\u001b[1;34m\u001b[0m\n\u001b[1;32m----> 1\u001b[1;33m \u001b[0mk\u001b[0m\u001b[1;33m.\u001b[0m\u001b[0mappend\u001b[0m\u001b[1;33m(\u001b[0m\u001b[1;36m5\u001b[0m\u001b[1;33m,\u001b[0m\u001b[1;36m6\u001b[0m\u001b[1;33m,\u001b[0m\u001b[1;36m9\u001b[0m\u001b[1;33m,\u001b[0m\u001b[1;36m8\u001b[0m\u001b[1;33m)\u001b[0m\u001b[1;33m\u001b[0m\u001b[1;33m\u001b[0m\u001b[0m\n\u001b[0m\u001b[0;32m      2\u001b[0m \u001b[0mprint\u001b[0m\u001b[1;33m(\u001b[0m\u001b[0mk\u001b[0m\u001b[1;33m)\u001b[0m\u001b[1;33m\u001b[0m\u001b[1;33m\u001b[0m\u001b[0m\n",
      "\u001b[1;31mTypeError\u001b[0m: append() takes exactly one argument (4 given)"
     ]
    }
   ],
   "source": [
    "k.append(5,6,9,8)\n",
    "print(k)"
   ]
  },
  {
   "cell_type": "code",
   "execution_count": 65,
   "id": "2ff6d0e4",
   "metadata": {},
   "outputs": [
    {
     "name": "stdout",
     "output_type": "stream",
     "text": [
      "[2, 45.0, 'raju', '45', [3, 6, 7]]\n",
      "[2, 45.0, 'raju', '45', [3, 6, 7], 10]\n"
     ]
    }
   ],
   "source": [
    "print(k)\n",
    "k.append(10)\n",
    "print(k)"
   ]
  },
  {
   "cell_type": "code",
   "execution_count": 66,
   "id": "f2725aa0",
   "metadata": {},
   "outputs": [],
   "source": [
    "n = [3,5,8,12.0,'Rajesh']"
   ]
  },
  {
   "cell_type": "code",
   "execution_count": 67,
   "id": "7490cc9c",
   "metadata": {},
   "outputs": [
    {
     "name": "stdout",
     "output_type": "stream",
     "text": [
      "[2, 45.0, 'raju', '45', [3, 6, 7], 10] [3, 5, 8, 12.0, 'Rajesh']\n"
     ]
    }
   ],
   "source": [
    "print(k,n)"
   ]
  },
  {
   "cell_type": "code",
   "execution_count": 68,
   "id": "c88289be",
   "metadata": {},
   "outputs": [
    {
     "name": "stdout",
     "output_type": "stream",
     "text": [
      "[2, 45.0, 'raju', '45', [3, 6, 7], 10]\n",
      "[2, 45.0, 'raju', '45', [3, 6, 7], 10, 3, 5, 8, 12.0, 'Rajesh']\n"
     ]
    }
   ],
   "source": [
    "print(k)\n",
    "k.extend(n)\n",
    "print(k)"
   ]
  },
  {
   "cell_type": "code",
   "execution_count": 69,
   "id": "6da657f2",
   "metadata": {},
   "outputs": [
    {
     "name": "stdout",
     "output_type": "stream",
     "text": [
      "[2, 45.0, 'raju', '45', [3, 6, 7], 10, 3, 5, 8, 12.0, 'Rajesh']\n"
     ]
    },
    {
     "ename": "TypeError",
     "evalue": "'int' object is not iterable",
     "output_type": "error",
     "traceback": [
      "\u001b[1;31m---------------------------------------------------------------------------\u001b[0m",
      "\u001b[1;31mTypeError\u001b[0m                                 Traceback (most recent call last)",
      "\u001b[1;32m<ipython-input-69-afa7189a1fe3>\u001b[0m in \u001b[0;36m<module>\u001b[1;34m\u001b[0m\n\u001b[0;32m      1\u001b[0m \u001b[0mprint\u001b[0m\u001b[1;33m(\u001b[0m\u001b[0mk\u001b[0m\u001b[1;33m)\u001b[0m\u001b[1;33m\u001b[0m\u001b[1;33m\u001b[0m\u001b[0m\n\u001b[1;32m----> 2\u001b[1;33m \u001b[0mk\u001b[0m\u001b[1;33m.\u001b[0m\u001b[0mextend\u001b[0m\u001b[1;33m(\u001b[0m\u001b[1;36m45\u001b[0m\u001b[1;33m)\u001b[0m\u001b[1;33m\u001b[0m\u001b[1;33m\u001b[0m\u001b[0m\n\u001b[0m\u001b[0;32m      3\u001b[0m \u001b[0mprint\u001b[0m\u001b[1;33m(\u001b[0m\u001b[0mk\u001b[0m\u001b[1;33m)\u001b[0m\u001b[1;33m\u001b[0m\u001b[1;33m\u001b[0m\u001b[0m\n",
      "\u001b[1;31mTypeError\u001b[0m: 'int' object is not iterable"
     ]
    }
   ],
   "source": [
    "print(k)\n",
    "k.extend(45)\n",
    "print(k)"
   ]
  },
  {
   "cell_type": "code",
   "execution_count": 72,
   "id": "de2ac286",
   "metadata": {},
   "outputs": [
    {
     "name": "stdout",
     "output_type": "stream",
     "text": [
      "[2, 45.0, 'raju', '45', [3, 6, 7], 10, 3, 5, 8, 12.0, 'Rajesh']\n",
      "[2, 45.0, 'raju', '45', [3, 6, 7], 10, 3, 5, 8, 12.0, 'Rajesh']\n",
      "1\n"
     ]
    }
   ],
   "source": [
    "print(k)\n",
    "y = k.count(3)\n",
    "print(k)\n",
    "print(y)"
   ]
  },
  {
   "cell_type": "code",
   "execution_count": 73,
   "id": "06dd865d",
   "metadata": {},
   "outputs": [],
   "source": [
    "k.extend([3,3,2,3,2,3])"
   ]
  },
  {
   "cell_type": "code",
   "execution_count": 75,
   "id": "4f640fb5",
   "metadata": {},
   "outputs": [
    {
     "name": "stdout",
     "output_type": "stream",
     "text": [
      "[2, 45.0, 'raju', '45', [3, 6, 7], 10, 3, 5, 8, 12.0, 'Rajesh', 3, 3, 2, 3, 2, 3]\n",
      "5\n"
     ]
    }
   ],
   "source": [
    "print(k)\n",
    "n = k.count(3)\n",
    "print(n)"
   ]
  },
  {
   "cell_type": "code",
   "execution_count": 78,
   "id": "54845780",
   "metadata": {},
   "outputs": [
    {
     "name": "stdout",
     "output_type": "stream",
     "text": [
      "[2, 45.0, 'raju', '45', [3, 6, 7], 10, 3, 5, 8, 12.0, 'Rajesh', 3, 3, 2, 3, 2, 3]\n"
     ]
    },
    {
     "ename": "ValueError",
     "evalue": "70 is not in list",
     "output_type": "error",
     "traceback": [
      "\u001b[1;31m---------------------------------------------------------------------------\u001b[0m",
      "\u001b[1;31mValueError\u001b[0m                                Traceback (most recent call last)",
      "\u001b[1;32m<ipython-input-78-048a9d5b1ab0>\u001b[0m in \u001b[0;36m<module>\u001b[1;34m\u001b[0m\n\u001b[0;32m      1\u001b[0m \u001b[0mprint\u001b[0m\u001b[1;33m(\u001b[0m\u001b[0mk\u001b[0m\u001b[1;33m)\u001b[0m\u001b[1;33m\u001b[0m\u001b[1;33m\u001b[0m\u001b[0m\n\u001b[1;32m----> 2\u001b[1;33m \u001b[0mg\u001b[0m \u001b[1;33m=\u001b[0m \u001b[0mk\u001b[0m\u001b[1;33m.\u001b[0m\u001b[0mindex\u001b[0m\u001b[1;33m(\u001b[0m\u001b[1;36m70\u001b[0m\u001b[1;33m)\u001b[0m\u001b[1;33m\u001b[0m\u001b[1;33m\u001b[0m\u001b[0m\n\u001b[0m\u001b[0;32m      3\u001b[0m \u001b[0mprint\u001b[0m\u001b[1;33m(\u001b[0m\u001b[0mg\u001b[0m\u001b[1;33m)\u001b[0m\u001b[1;33m\u001b[0m\u001b[1;33m\u001b[0m\u001b[0m\n",
      "\u001b[1;31mValueError\u001b[0m: 70 is not in list"
     ]
    }
   ],
   "source": [
    "print(k)\n",
    "g = k.index(70)\n",
    "print(g)"
   ]
  },
  {
   "cell_type": "code",
   "execution_count": 79,
   "id": "6cff4388",
   "metadata": {},
   "outputs": [
    {
     "name": "stdout",
     "output_type": "stream",
     "text": [
      "[2, 45.0, 'raju', '45', [3, 6, 7], 10, 3, 5, 8, 12.0, 'Rajesh', 3, 3, 2, 3, 2, 3]\n"
     ]
    },
    {
     "ename": "TypeError",
     "evalue": "insert() takes exactly 2 arguments (0 given)",
     "output_type": "error",
     "traceback": [
      "\u001b[1;31m---------------------------------------------------------------------------\u001b[0m",
      "\u001b[1;31mTypeError\u001b[0m                                 Traceback (most recent call last)",
      "\u001b[1;32m<ipython-input-79-df2ba697e0d3>\u001b[0m in \u001b[0;36m<module>\u001b[1;34m\u001b[0m\n\u001b[0;32m      1\u001b[0m \u001b[0mprint\u001b[0m\u001b[1;33m(\u001b[0m\u001b[0mk\u001b[0m\u001b[1;33m)\u001b[0m\u001b[1;33m\u001b[0m\u001b[1;33m\u001b[0m\u001b[0m\n\u001b[1;32m----> 2\u001b[1;33m \u001b[0mk\u001b[0m\u001b[1;33m.\u001b[0m\u001b[0minsert\u001b[0m\u001b[1;33m(\u001b[0m\u001b[1;33m)\u001b[0m\u001b[1;33m\u001b[0m\u001b[1;33m\u001b[0m\u001b[0m\n\u001b[0m",
      "\u001b[1;31mTypeError\u001b[0m: insert() takes exactly 2 arguments (0 given)"
     ]
    }
   ],
   "source": [
    "print(k)\n",
    "k.insert()"
   ]
  },
  {
   "cell_type": "code",
   "execution_count": 81,
   "id": "19736278",
   "metadata": {},
   "outputs": [
    {
     "name": "stdout",
     "output_type": "stream",
     "text": [
      "[2, 45.0, 'raju', '45', [3, 6, 7], 10, 3, 5, 8, 12.0, 'Rajesh', 3, 3, 2, 3, 2, 3, 0]\n",
      "[100, 2, 45.0, 'raju', '45', [3, 6, 7], 10, 3, 5, 8, 12.0, 'Rajesh', 3, 3, 2, 3, 2, 3, 0]\n"
     ]
    }
   ],
   "source": [
    "print(k)\n",
    "k.insert(0,100)\n",
    "print(k)\n"
   ]
  },
  {
   "cell_type": "code",
   "execution_count": 85,
   "id": "eff58fe2",
   "metadata": {},
   "outputs": [
    {
     "name": "stdout",
     "output_type": "stream",
     "text": [
      "[100, 2, 45.0, 'raju', '45', [3, 6, 7], 10, 3, 5, 8, 12.0, 'Rajesh', 3, 3, 2, 3, 2, 3, 0, 100, 100, 100]\n",
      "23\n"
     ]
    }
   ],
   "source": [
    "print(k)\n",
    "k.insert(125,100)\n",
    "print(len(k))"
   ]
  },
  {
   "cell_type": "code",
   "execution_count": 86,
   "id": "69e2882c",
   "metadata": {},
   "outputs": [
    {
     "name": "stdout",
     "output_type": "stream",
     "text": [
      "[100, 2, 45.0, 'raju', '45', [3, 6, 7], 10, 3, 5, 8, 12.0, 'Rajesh', 3, 3, 2, 3, 2, 3, 0, 100, 100, 100, 100]\n",
      "24\n"
     ]
    }
   ],
   "source": [
    "print(k)\n",
    "k.insert(12,10)\n",
    "print(len(k))"
   ]
  },
  {
   "cell_type": "code",
   "execution_count": 87,
   "id": "d564419f",
   "metadata": {},
   "outputs": [
    {
     "name": "stdout",
     "output_type": "stream",
     "text": [
      "[100, 2, 45.0, 'raju', '45', [3, 6, 7], 10, 3, 5, 8, 12.0, 'Rajesh', 10, 3, 3, 2, 3, 2, 3, 0, 100, 100, 100, 100]\n",
      "[100, 2, 45.0, 'raju', '45', [3, 6, 7], 10, 3, 5, 8, 12.0, 'Rajesh', 10, 3, 3, 2, 3, 2, 3, 0, 100, 100, 100]\n"
     ]
    }
   ],
   "source": [
    "print(k)\n",
    "k.pop()\n",
    "print(k)"
   ]
  },
  {
   "cell_type": "code",
   "execution_count": 88,
   "id": "84548b61",
   "metadata": {},
   "outputs": [
    {
     "name": "stdout",
     "output_type": "stream",
     "text": [
      "[100, 2, 45.0, 'raju', '45', [3, 6, 7], 10, 3, 5, 8, 12.0, 'Rajesh', 10, 3, 3, 2, 3, 2, 3, 0, 100, 100, 100]\n",
      "[100, 2, 45.0, 'raju', '45', [3, 6, 7], 10, 3, 5, 8, 'Rajesh', 10, 3, 3, 2, 3, 2, 3, 0, 100, 100, 100]\n"
     ]
    }
   ],
   "source": [
    "print(k)\n",
    "k.pop(10)\n",
    "print(k)"
   ]
  },
  {
   "cell_type": "code",
   "execution_count": 89,
   "id": "94796d93",
   "metadata": {},
   "outputs": [
    {
     "name": "stdout",
     "output_type": "stream",
     "text": [
      "[100, 2, 45.0, 'raju', '45', [3, 6, 7], 10, 3, 5, 8, 'Rajesh', 10, 3, 3, 2, 3, 2, 3, 0, 100, 100, 100]\n"
     ]
    },
    {
     "ename": "IndexError",
     "evalue": "pop index out of range",
     "output_type": "error",
     "traceback": [
      "\u001b[1;31m---------------------------------------------------------------------------\u001b[0m",
      "\u001b[1;31mIndexError\u001b[0m                                Traceback (most recent call last)",
      "\u001b[1;32m<ipython-input-89-f5ffcf0fde57>\u001b[0m in \u001b[0;36m<module>\u001b[1;34m\u001b[0m\n\u001b[0;32m      1\u001b[0m \u001b[0mprint\u001b[0m\u001b[1;33m(\u001b[0m\u001b[0mk\u001b[0m\u001b[1;33m)\u001b[0m\u001b[1;33m\u001b[0m\u001b[1;33m\u001b[0m\u001b[0m\n\u001b[1;32m----> 2\u001b[1;33m \u001b[0mk\u001b[0m\u001b[1;33m.\u001b[0m\u001b[0mpop\u001b[0m\u001b[1;33m(\u001b[0m\u001b[1;36m200\u001b[0m\u001b[1;33m)\u001b[0m\u001b[1;33m\u001b[0m\u001b[1;33m\u001b[0m\u001b[0m\n\u001b[0m\u001b[0;32m      3\u001b[0m \u001b[0mprint\u001b[0m\u001b[1;33m(\u001b[0m\u001b[0mk\u001b[0m\u001b[1;33m)\u001b[0m\u001b[1;33m\u001b[0m\u001b[1;33m\u001b[0m\u001b[0m\n",
      "\u001b[1;31mIndexError\u001b[0m: pop index out of range"
     ]
    }
   ],
   "source": [
    "print(k)\n",
    "k.pop(200)\n",
    "print(k)"
   ]
  },
  {
   "cell_type": "code",
   "execution_count": 90,
   "id": "6dd614d3",
   "metadata": {},
   "outputs": [
    {
     "name": "stdout",
     "output_type": "stream",
     "text": [
      "[100, 2, 45.0, 'raju', '45', [3, 6, 7], 10, 3, 5, 8, 'Rajesh', 10, 3, 3, 2, 3, 2, 3, 0, 100, 100, 100]\n"
     ]
    },
    {
     "ename": "TypeError",
     "evalue": "remove() takes exactly one argument (0 given)",
     "output_type": "error",
     "traceback": [
      "\u001b[1;31m---------------------------------------------------------------------------\u001b[0m",
      "\u001b[1;31mTypeError\u001b[0m                                 Traceback (most recent call last)",
      "\u001b[1;32m<ipython-input-90-72768aff4d42>\u001b[0m in \u001b[0;36m<module>\u001b[1;34m\u001b[0m\n\u001b[0;32m      1\u001b[0m \u001b[0mprint\u001b[0m\u001b[1;33m(\u001b[0m\u001b[0mk\u001b[0m\u001b[1;33m)\u001b[0m\u001b[1;33m\u001b[0m\u001b[1;33m\u001b[0m\u001b[0m\n\u001b[1;32m----> 2\u001b[1;33m \u001b[0mk\u001b[0m\u001b[1;33m.\u001b[0m\u001b[0mremove\u001b[0m\u001b[1;33m(\u001b[0m\u001b[1;33m)\u001b[0m\u001b[1;33m\u001b[0m\u001b[1;33m\u001b[0m\u001b[0m\n\u001b[0m\u001b[0;32m      3\u001b[0m \u001b[0mprint\u001b[0m\u001b[1;33m(\u001b[0m\u001b[0mk\u001b[0m\u001b[1;33m)\u001b[0m\u001b[1;33m\u001b[0m\u001b[1;33m\u001b[0m\u001b[0m\n",
      "\u001b[1;31mTypeError\u001b[0m: remove() takes exactly one argument (0 given)"
     ]
    }
   ],
   "source": [
    "print(k)\n",
    "k.remove()\n",
    "print(k)"
   ]
  },
  {
   "cell_type": "code",
   "execution_count": 91,
   "id": "965e577c",
   "metadata": {},
   "outputs": [
    {
     "name": "stdout",
     "output_type": "stream",
     "text": [
      "[100, 2, 45.0, 'raju', '45', [3, 6, 7], 10, 3, 5, 8, 'Rajesh', 10, 3, 3, 2, 3, 2, 3, 0, 100, 100, 100]\n"
     ]
    },
    {
     "ename": "ValueError",
     "evalue": "list.remove(x): x not in list",
     "output_type": "error",
     "traceback": [
      "\u001b[1;31m---------------------------------------------------------------------------\u001b[0m",
      "\u001b[1;31mValueError\u001b[0m                                Traceback (most recent call last)",
      "\u001b[1;32m<ipython-input-91-1bfb550a120c>\u001b[0m in \u001b[0;36m<module>\u001b[1;34m\u001b[0m\n\u001b[0;32m      1\u001b[0m \u001b[0mprint\u001b[0m\u001b[1;33m(\u001b[0m\u001b[0mk\u001b[0m\u001b[1;33m)\u001b[0m\u001b[1;33m\u001b[0m\u001b[1;33m\u001b[0m\u001b[0m\n\u001b[1;32m----> 2\u001b[1;33m \u001b[0mk\u001b[0m\u001b[1;33m.\u001b[0m\u001b[0mremove\u001b[0m\u001b[1;33m(\u001b[0m\u001b[1;36m205\u001b[0m\u001b[1;33m)\u001b[0m\u001b[1;33m\u001b[0m\u001b[1;33m\u001b[0m\u001b[0m\n\u001b[0m\u001b[0;32m      3\u001b[0m \u001b[0mprint\u001b[0m\u001b[1;33m(\u001b[0m\u001b[0mk\u001b[0m\u001b[1;33m)\u001b[0m\u001b[1;33m\u001b[0m\u001b[1;33m\u001b[0m\u001b[0m\n",
      "\u001b[1;31mValueError\u001b[0m: list.remove(x): x not in list"
     ]
    }
   ],
   "source": [
    "print(k)\n",
    "k.remove(205)\n",
    "print(k)"
   ]
  },
  {
   "cell_type": "code",
   "execution_count": 92,
   "id": "37f05565",
   "metadata": {},
   "outputs": [
    {
     "name": "stdout",
     "output_type": "stream",
     "text": [
      "[100, 2, 45.0, 'raju', '45', [3, 6, 7], 10, 3, 5, 8, 'Rajesh', 10, 3, 3, 2, 3, 2, 3, 0, 100, 100, 100]\n",
      "[100, 2, 45.0, 'raju', '45', [3, 6, 7], 10, 3, 5, 8, 'Rajesh', 10, 3, 3, 2, 3, 2, 3, 100, 100, 100]\n"
     ]
    }
   ],
   "source": [
    "print(k)\n",
    "k.remove(0)\n",
    "print(k)"
   ]
  },
  {
   "cell_type": "code",
   "execution_count": 93,
   "id": "b64bf801",
   "metadata": {},
   "outputs": [
    {
     "name": "stdout",
     "output_type": "stream",
     "text": [
      "[100, 2, 45.0, 'raju', '45', [3, 6, 7], 10, 3, 5, 8, 'Rajesh', 10, 3, 3, 2, 3, 2, 3, 100, 100, 100]\n",
      "[2, 45.0, 'raju', '45', [3, 6, 7], 10, 3, 5, 8, 'Rajesh', 10, 3, 3, 2, 3, 2, 3, 100, 100, 100]\n"
     ]
    }
   ],
   "source": [
    "print(k)\n",
    "k.remove(100)\n",
    "print(k)"
   ]
  },
  {
   "cell_type": "code",
   "execution_count": 94,
   "id": "6e6f19ad",
   "metadata": {},
   "outputs": [
    {
     "name": "stdout",
     "output_type": "stream",
     "text": [
      "[2, 45.0, 'raju', '45', [3, 6, 7], 10, 3, 5, 8, 'Rajesh', 10, 3, 3, 2, 3, 2, 3, 100, 100, 100]\n"
     ]
    },
    {
     "ename": "ValueError",
     "evalue": "list.remove(x): x not in list",
     "output_type": "error",
     "traceback": [
      "\u001b[1;31m---------------------------------------------------------------------------\u001b[0m",
      "\u001b[1;31mValueError\u001b[0m                                Traceback (most recent call last)",
      "\u001b[1;32m<ipython-input-94-152b1653465c>\u001b[0m in \u001b[0;36m<module>\u001b[1;34m\u001b[0m\n\u001b[0;32m      1\u001b[0m \u001b[0mprint\u001b[0m\u001b[1;33m(\u001b[0m\u001b[0mk\u001b[0m\u001b[1;33m)\u001b[0m\u001b[1;33m\u001b[0m\u001b[1;33m\u001b[0m\u001b[0m\n\u001b[0;32m      2\u001b[0m \u001b[0mq\u001b[0m \u001b[1;33m=\u001b[0m \u001b[1;33m[\u001b[0m\u001b[1;36m100\u001b[0m\u001b[1;33m]\u001b[0m\u001b[1;33m\u001b[0m\u001b[1;33m\u001b[0m\u001b[0m\n\u001b[1;32m----> 3\u001b[1;33m \u001b[0mk\u001b[0m\u001b[1;33m.\u001b[0m\u001b[0mremove\u001b[0m\u001b[1;33m(\u001b[0m\u001b[0mq\u001b[0m\u001b[1;33m)\u001b[0m\u001b[1;33m\u001b[0m\u001b[1;33m\u001b[0m\u001b[0m\n\u001b[0m\u001b[0;32m      4\u001b[0m \u001b[0mprint\u001b[0m\u001b[1;33m(\u001b[0m\u001b[0mk\u001b[0m\u001b[1;33m)\u001b[0m\u001b[1;33m\u001b[0m\u001b[1;33m\u001b[0m\u001b[0m\n",
      "\u001b[1;31mValueError\u001b[0m: list.remove(x): x not in list"
     ]
    }
   ],
   "source": [
    "print(k)\n",
    "q = [100]\n",
    "k.remove(q)\n",
    "print(k)"
   ]
  },
  {
   "cell_type": "code",
   "execution_count": 95,
   "id": "d26e65a7",
   "metadata": {},
   "outputs": [
    {
     "name": "stdout",
     "output_type": "stream",
     "text": [
      "[2, 45.0, 'raju', '45', [3, 6, 7], 10, 3, 5, 8, 'Rajesh', 10, 3, 3, 2, 3, 2, 3, 100, 100, 100]\n",
      "[2, 45.0, 'raju', '45', [3, 6, 7], 3, 5, 8, 'Rajesh', 10, 3, 3, 2, 3, 2, 3, 100, 100, 100]\n"
     ]
    }
   ],
   "source": [
    "print(k)\n",
    "k.remove(10)\n",
    "print(k)"
   ]
  },
  {
   "cell_type": "code",
   "execution_count": 96,
   "id": "93cec93f",
   "metadata": {},
   "outputs": [
    {
     "name": "stdout",
     "output_type": "stream",
     "text": [
      "[2, 45.0, 'raju', '45', [3, 6, 7], 3, 5, 8, 'Rajesh', 10, 3, 3, 2, 3, 2, 3, 100, 100, 100]\n"
     ]
    },
    {
     "ename": "TypeError",
     "evalue": "'<' not supported between instances of 'str' and 'float'",
     "output_type": "error",
     "traceback": [
      "\u001b[1;31m---------------------------------------------------------------------------\u001b[0m",
      "\u001b[1;31mTypeError\u001b[0m                                 Traceback (most recent call last)",
      "\u001b[1;32m<ipython-input-96-9cc3f3a73904>\u001b[0m in \u001b[0;36m<module>\u001b[1;34m\u001b[0m\n\u001b[0;32m      1\u001b[0m \u001b[0mprint\u001b[0m\u001b[1;33m(\u001b[0m\u001b[0mk\u001b[0m\u001b[1;33m)\u001b[0m\u001b[1;33m\u001b[0m\u001b[1;33m\u001b[0m\u001b[0m\n\u001b[1;32m----> 2\u001b[1;33m \u001b[0mk\u001b[0m\u001b[1;33m.\u001b[0m\u001b[0msort\u001b[0m\u001b[1;33m(\u001b[0m\u001b[1;33m)\u001b[0m\u001b[1;33m\u001b[0m\u001b[1;33m\u001b[0m\u001b[0m\n\u001b[0m\u001b[0;32m      3\u001b[0m \u001b[0mprint\u001b[0m\u001b[1;33m(\u001b[0m\u001b[0mk\u001b[0m\u001b[1;33m)\u001b[0m\u001b[1;33m\u001b[0m\u001b[1;33m\u001b[0m\u001b[0m\n",
      "\u001b[1;31mTypeError\u001b[0m: '<' not supported between instances of 'str' and 'float'"
     ]
    }
   ],
   "source": [
    "print(k)\n",
    "k.sort()\n",
    "print(k)"
   ]
  },
  {
   "cell_type": "code",
   "execution_count": 99,
   "id": "dcb97b43",
   "metadata": {},
   "outputs": [
    {
     "name": "stdout",
     "output_type": "stream",
     "text": [
      "[20, 4, 50, 600]\n",
      "[4, 20, 50, 600]\n"
     ]
    }
   ],
   "source": [
    "n = [20,4,50,600]\n",
    "print(n)\n",
    "n.sort()\n",
    "print(n)"
   ]
  },
  {
   "cell_type": "code",
   "execution_count": 100,
   "id": "34acbce2",
   "metadata": {},
   "outputs": [
    {
     "name": "stdout",
     "output_type": "stream",
     "text": [
      "[4, 20, 50, 600]\n",
      "[600, 50, 20, 4]\n"
     ]
    }
   ],
   "source": [
    "print(n)\n",
    "n.sort(reverse=True)\n",
    "print(n)"
   ]
  },
  {
   "cell_type": "code",
   "execution_count": 101,
   "id": "924b1bc9",
   "metadata": {},
   "outputs": [
    {
     "name": "stdout",
     "output_type": "stream",
     "text": [
      "[67, 2, 50, 78, 1]\n",
      "[1, 78, 50, 2, 67]\n"
     ]
    }
   ],
   "source": [
    "y = [67,2,50,78,1]\n",
    "print(y)\n",
    "y.reverse()\n",
    "print(y)"
   ]
  },
  {
   "cell_type": "code",
   "execution_count": 103,
   "id": "c6488e46",
   "metadata": {},
   "outputs": [
    {
     "name": "stdout",
     "output_type": "stream",
     "text": [
      "[1, 78, 50, 2, 67]\n",
      "2\n"
     ]
    }
   ],
   "source": [
    "print(y)\n",
    "d = y.index(50)\n",
    "print(d)"
   ]
  },
  {
   "cell_type": "code",
   "execution_count": 104,
   "id": "e20273bd",
   "metadata": {},
   "outputs": [
    {
     "name": "stdout",
     "output_type": "stream",
     "text": [
      "[1, 78, 50, 2, 67]\n"
     ]
    },
    {
     "ename": "ValueError",
     "evalue": "5 is not in list",
     "output_type": "error",
     "traceback": [
      "\u001b[1;31m---------------------------------------------------------------------------\u001b[0m",
      "\u001b[1;31mValueError\u001b[0m                                Traceback (most recent call last)",
      "\u001b[1;32m<ipython-input-104-0baf7a462900>\u001b[0m in \u001b[0;36m<module>\u001b[1;34m\u001b[0m\n\u001b[0;32m      1\u001b[0m \u001b[0mprint\u001b[0m\u001b[1;33m(\u001b[0m\u001b[0my\u001b[0m\u001b[1;33m)\u001b[0m\u001b[1;33m\u001b[0m\u001b[1;33m\u001b[0m\u001b[0m\n\u001b[1;32m----> 2\u001b[1;33m \u001b[0md\u001b[0m \u001b[1;33m=\u001b[0m \u001b[0my\u001b[0m\u001b[1;33m.\u001b[0m\u001b[0mindex\u001b[0m\u001b[1;33m(\u001b[0m\u001b[1;36m5\u001b[0m\u001b[1;33m)\u001b[0m\u001b[1;33m\u001b[0m\u001b[1;33m\u001b[0m\u001b[0m\n\u001b[0m\u001b[0;32m      3\u001b[0m \u001b[0mprint\u001b[0m\u001b[1;33m(\u001b[0m\u001b[0md\u001b[0m\u001b[1;33m)\u001b[0m\u001b[1;33m\u001b[0m\u001b[1;33m\u001b[0m\u001b[0m\n",
      "\u001b[1;31mValueError\u001b[0m: 5 is not in list"
     ]
    }
   ],
   "source": [
    "print(y)\n",
    "d = y.index(5)\n",
    "print(d)"
   ]
  },
  {
   "cell_type": "code",
   "execution_count": 106,
   "id": "b3b3bd1b",
   "metadata": {},
   "outputs": [
    {
     "name": "stdout",
     "output_type": "stream",
     "text": [
      "[1, 78, 50, 2, 67]\n",
      "[1, 78, 50, 2, 67]\n",
      "[3, 5, 8, 23, 5]\n",
      "[3, 5, 8, 23, 5]\n"
     ]
    }
   ],
   "source": [
    "print(y)\n",
    "w = [3,5,8,23,5]\n",
    "t = w.copy()\n",
    "print(y)\n",
    "print(w)\n",
    "print(t)"
   ]
  },
  {
   "cell_type": "code",
   "execution_count": 107,
   "id": "67467a04",
   "metadata": {},
   "outputs": [
    {
     "name": "stdout",
     "output_type": "stream",
     "text": [
      "[3, 5, 8, 23, 5]\n",
      "[3, 5, 8, 23]\n",
      "[3, 5, 8, 23, 5]\n"
     ]
    }
   ],
   "source": [
    "print(w)\n",
    "w.pop()\n",
    "print(w)\n",
    "print(t)"
   ]
  },
  {
   "cell_type": "code",
   "execution_count": 108,
   "id": "f9a5567d",
   "metadata": {},
   "outputs": [
    {
     "name": "stdout",
     "output_type": "stream",
     "text": [
      "[3, 5, 8, 23, 5]\n",
      "[3, 5, 8, 23]\n",
      "[3, 5, 8, 23]\n"
     ]
    }
   ],
   "source": [
    "print(t)\n",
    "t.pop()\n",
    "print(w)\n",
    "print(t)"
   ]
  },
  {
   "cell_type": "code",
   "execution_count": 109,
   "id": "0c372db7",
   "metadata": {},
   "outputs": [
    {
     "name": "stdout",
     "output_type": "stream",
     "text": [
      "[3, 5, 8, 23]\n",
      "[20, 3, 5, 8, 23]\n",
      "[3, 5, 8, 23]\n"
     ]
    }
   ],
   "source": [
    "print(t)\n",
    "t.insert(0,20)\n",
    "print(t)\n",
    "print(w)"
   ]
  },
  {
   "cell_type": "code",
   "execution_count": 111,
   "id": "f50974c5",
   "metadata": {},
   "outputs": [
    {
     "name": "stdout",
     "output_type": "stream",
     "text": [
      "[20, 3, 5, 8, 23]\n",
      "[3, 5, 8, 23]\n",
      "[20, 3, 8, 23]\n"
     ]
    }
   ],
   "source": [
    "print(t)\n",
    "t.pop(2)\n",
    "print(w)\n",
    "print(t)"
   ]
  },
  {
   "cell_type": "code",
   "execution_count": 112,
   "id": "0ca0dee3",
   "metadata": {},
   "outputs": [
    {
     "name": "stdout",
     "output_type": "stream",
     "text": [
      "[3, 5, 8, 23]\n",
      "[200, 3, 5, 8, 23]\n",
      "[20, 3, 8, 23]\n"
     ]
    }
   ],
   "source": [
    "print(w)\n",
    "w.insert(0,200)\n",
    "print(w)\n",
    "print(t)"
   ]
  },
  {
   "cell_type": "code",
   "execution_count": 113,
   "id": "d89f6df6",
   "metadata": {},
   "outputs": [
    {
     "name": "stdout",
     "output_type": "stream",
     "text": [
      "[200, 3, 5, 8, 23]\n",
      "[]\n"
     ]
    }
   ],
   "source": [
    "print(w)\n",
    "w.clear()\n",
    "print(w)"
   ]
  },
  {
   "cell_type": "code",
   "execution_count": 115,
   "id": "9192c8db",
   "metadata": {},
   "outputs": [
    {
     "name": "stdout",
     "output_type": "stream",
     "text": [
      "[]\n"
     ]
    },
    {
     "ename": "NameError",
     "evalue": "name 'w' is not defined",
     "output_type": "error",
     "traceback": [
      "\u001b[1;31m---------------------------------------------------------------------------\u001b[0m",
      "\u001b[1;31mNameError\u001b[0m                                 Traceback (most recent call last)",
      "\u001b[1;32m<ipython-input-115-715a9fcdf491>\u001b[0m in \u001b[0;36m<module>\u001b[1;34m\u001b[0m\n\u001b[0;32m      1\u001b[0m \u001b[0mprint\u001b[0m\u001b[1;33m(\u001b[0m\u001b[0mw\u001b[0m\u001b[1;33m)\u001b[0m\u001b[1;33m\u001b[0m\u001b[1;33m\u001b[0m\u001b[0m\n\u001b[0;32m      2\u001b[0m \u001b[1;32mdel\u001b[0m \u001b[0mw\u001b[0m\u001b[1;33m\u001b[0m\u001b[1;33m\u001b[0m\u001b[0m\n\u001b[1;32m----> 3\u001b[1;33m \u001b[0mprint\u001b[0m\u001b[1;33m(\u001b[0m\u001b[0mw\u001b[0m\u001b[1;33m)\u001b[0m\u001b[1;33m\u001b[0m\u001b[1;33m\u001b[0m\u001b[0m\n\u001b[0m",
      "\u001b[1;31mNameError\u001b[0m: name 'w' is not defined"
     ]
    }
   ],
   "source": [
    "print(w)\n",
    "del w\n",
    "print(w)"
   ]
  },
  {
   "cell_type": "code",
   "execution_count": 117,
   "id": "08f0cfbd",
   "metadata": {},
   "outputs": [
    {
     "name": "stdout",
     "output_type": "stream",
     "text": [
      "['__add__', '__class__', '__contains__', '__delattr__', '__delitem__', '__dir__', '__doc__', '__eq__', '__format__', '__ge__', '__getattribute__', '__getitem__', '__gt__', '__hash__', '__iadd__', '__imul__', '__init__', '__init_subclass__', '__iter__', '__le__', '__len__', '__lt__', '__mul__', '__ne__', '__new__', '__reduce__', '__reduce_ex__', '__repr__', '__reversed__', '__rmul__', '__setattr__', '__setitem__', '__sizeof__', '__str__', '__subclasshook__', 'append', 'clear', 'copy', 'count', 'extend', 'index', 'insert', 'pop', 'remove', 'reverse', 'sort']\n"
     ]
    }
   ],
   "source": [
    "print(dir(y))"
   ]
  },
  {
   "cell_type": "code",
   "execution_count": 129,
   "id": "75c7ebe7",
   "metadata": {},
   "outputs": [
    {
     "name": "stdout",
     "output_type": "stream",
     "text": [
      "[1, 78, 50, 2, 67]\n"
     ]
    }
   ],
   "source": [
    "print(y)"
   ]
  },
  {
   "cell_type": "code",
   "execution_count": 132,
   "id": "70b3dddf",
   "metadata": {},
   "outputs": [
    {
     "name": "stdout",
     "output_type": "stream",
     "text": [
      "[1, 78, 50, 2, 67]\n",
      "[1, 78, 50, 2, 67]\n",
      "50\n",
      "2\n"
     ]
    }
   ],
   "source": [
    "print(y[:])\n",
    "print(y)\n",
    "print(y[2])\n",
    "print(y[-2])"
   ]
  },
  {
   "cell_type": "code",
   "execution_count": 144,
   "id": "fd672754",
   "metadata": {},
   "outputs": [
    {
     "name": "stdout",
     "output_type": "stream",
     "text": [
      "[1, 78, 50, 2, 67]\n",
      "[2, 67]\n",
      "[2, 67]\n",
      "[]\n",
      "[]\n",
      "[78, 50, 2]\n"
     ]
    }
   ],
   "source": [
    "print(y)\n",
    "print(y[3:])\n",
    "print(y[-2:])\n",
    "print(y[1:-5])\n",
    "print(y[-1:1])\n",
    "print(y[-4:-1])"
   ]
  },
  {
   "cell_type": "code",
   "execution_count": 159,
   "id": "6035215a",
   "metadata": {},
   "outputs": [
    {
     "name": "stdout",
     "output_type": "stream",
     "text": [
      "[1, 78, 50, 2, 67]\n",
      "[1, 78, 50, 2, 67]\n",
      "[78, 50, 2, 67]\n",
      "[50, 2]\n",
      "[50, 67]\n",
      "[67]\n",
      "67\n",
      "[]\n",
      "[]\n",
      "[67, 2, 50]\n",
      "[67, 2, 50, 78, 1]\n"
     ]
    }
   ],
   "source": [
    "print(y[::])\n",
    "print(y)\n",
    "print(y[1::])\n",
    "print(y[2:4:])\n",
    "print(y[2::2])\n",
    "print(y[-1::])\n",
    "print(y[-1])\n",
    "print(y[-1:2:])\n",
    "print(y[-1:4:-2])\n",
    "print(y[-1:-4:-1])\n",
    "print(y[::-1])"
   ]
  },
  {
   "cell_type": "code",
   "execution_count": 161,
   "id": "bc902882",
   "metadata": {},
   "outputs": [
    {
     "name": "stdout",
     "output_type": "stream",
     "text": [
      "5\n",
      "10\n",
      "20\n",
      "50\n",
      "6\n",
      "8\n",
      "[10, 20, 50, 6, 8]\n",
      "0 => 10 1 => 20 2 => 50 3 => 6 4 => 8 "
     ]
    }
   ],
   "source": [
    "m = int(input())\n",
    "t = []\n",
    "for i in range(m):\n",
    "    k = int(input())\n",
    "    t.append(k)\n",
    "print(t)\n",
    "for j in range(len(t)):\n",
    "    print(\"{} => {}\".format(j,t[j]),end=\" \")"
   ]
  },
  {
   "cell_type": "code",
   "execution_count": 167,
   "id": "e78edc8c",
   "metadata": {},
   "outputs": [
    {
     "name": "stdout",
     "output_type": "stream",
     "text": [
      "10 -> 0\n",
      "20 -> 1\n",
      "50 -> 2\n",
      "6 -> 3\n",
      "8 -> 4\n"
     ]
    }
   ],
   "source": [
    "for j in t:\n",
    "#     print(j,end=\" \")\n",
    "    p = t.index(j)\n",
    "    print(\"{} -> {}\".format(j,p))"
   ]
  },
  {
   "cell_type": "code",
   "execution_count": 163,
   "id": "29b36791",
   "metadata": {},
   "outputs": [
    {
     "name": "stdout",
     "output_type": "stream",
     "text": [
      "[20, 10, 5, 0, 8]\n",
      "3\n"
     ]
    }
   ],
   "source": [
    "k = [20,10,5,0,8]\n",
    "print(k)\n",
    "x = k.index(0)\n",
    "print(x)"
   ]
  },
  {
   "cell_type": "markdown",
   "id": "1898fa46",
   "metadata": {},
   "source": [
    "## Tuple:\n",
    "```\n",
    "    - It can be represented as \"()\"\n",
    "    - Duplicates can be allowed\n",
    "    - Slicing can be done because of index\n",
    "    - It can be typecast by using tuple()\n",
    "    - It sores the value in ordered format\n",
    "    - It can't changes the value.\n",
    "```"
   ]
  },
  {
   "cell_type": "code",
   "execution_count": 168,
   "id": "1b625fa5",
   "metadata": {},
   "outputs": [
    {
     "name": "stdout",
     "output_type": "stream",
     "text": [
      "(4, 6.0, 'prasad', '45.0') <class 'tuple'>\n"
     ]
    }
   ],
   "source": [
    "m = (4,6.0,\"prasad\",'45.0')\n",
    "print(m,type(m))"
   ]
  },
  {
   "cell_type": "code",
   "execution_count": 169,
   "id": "9fbeaa06",
   "metadata": {},
   "outputs": [
    {
     "name": "stdout",
     "output_type": "stream",
     "text": [
      "['__add__', '__class__', '__contains__', '__delattr__', '__dir__', '__doc__', '__eq__', '__format__', '__ge__', '__getattribute__', '__getitem__', '__getnewargs__', '__gt__', '__hash__', '__init__', '__init_subclass__', '__iter__', '__le__', '__len__', '__lt__', '__mul__', '__ne__', '__new__', '__reduce__', '__reduce_ex__', '__repr__', '__rmul__', '__setattr__', '__sizeof__', '__str__', '__subclasshook__', 'count', 'index']\n"
     ]
    }
   ],
   "source": [
    "print(dir(tuple))"
   ]
  },
  {
   "cell_type": "code",
   "execution_count": 170,
   "id": "9bb5ff90",
   "metadata": {},
   "outputs": [
    {
     "name": "stdout",
     "output_type": "stream",
     "text": [
      "0\n"
     ]
    }
   ],
   "source": [
    "print(m.count(1))"
   ]
  },
  {
   "cell_type": "code",
   "execution_count": 171,
   "id": "f7f778b8",
   "metadata": {},
   "outputs": [
    {
     "name": "stdout",
     "output_type": "stream",
     "text": [
      "1\n"
     ]
    }
   ],
   "source": [
    "print(m.count(4))"
   ]
  },
  {
   "cell_type": "code",
   "execution_count": 172,
   "id": "506f5503",
   "metadata": {},
   "outputs": [
    {
     "ename": "ValueError",
     "evalue": "tuple.index(x): x not in tuple",
     "output_type": "error",
     "traceback": [
      "\u001b[1;31m---------------------------------------------------------------------------\u001b[0m",
      "\u001b[1;31mValueError\u001b[0m                                Traceback (most recent call last)",
      "\u001b[1;32m<ipython-input-172-b94d33d1414f>\u001b[0m in \u001b[0;36m<module>\u001b[1;34m\u001b[0m\n\u001b[1;32m----> 1\u001b[1;33m \u001b[0mprint\u001b[0m\u001b[1;33m(\u001b[0m\u001b[0mm\u001b[0m\u001b[1;33m.\u001b[0m\u001b[0mindex\u001b[0m\u001b[1;33m(\u001b[0m\u001b[1;36m100\u001b[0m\u001b[1;33m)\u001b[0m\u001b[1;33m)\u001b[0m\u001b[1;33m\u001b[0m\u001b[1;33m\u001b[0m\u001b[0m\n\u001b[0m",
      "\u001b[1;31mValueError\u001b[0m: tuple.index(x): x not in tuple"
     ]
    }
   ],
   "source": [
    "print(m.index(100))"
   ]
  },
  {
   "cell_type": "code",
   "execution_count": 173,
   "id": "bc90d08d",
   "metadata": {},
   "outputs": [
    {
     "name": "stdout",
     "output_type": "stream",
     "text": [
      "0\n"
     ]
    }
   ],
   "source": [
    "print(m.index(4))"
   ]
  },
  {
   "cell_type": "code",
   "execution_count": 174,
   "id": "509efa04",
   "metadata": {},
   "outputs": [
    {
     "name": "stdout",
     "output_type": "stream",
     "text": [
      "2\n"
     ]
    }
   ],
   "source": [
    "print(m.index(\"prasad\"))"
   ]
  },
  {
   "cell_type": "code",
   "execution_count": 175,
   "id": "59a77fdf",
   "metadata": {},
   "outputs": [
    {
     "name": "stdout",
     "output_type": "stream",
     "text": [
      "(4, 6.0, 'prasad', '45.0')\n"
     ]
    }
   ],
   "source": [
    "print(m)"
   ]
  },
  {
   "cell_type": "code",
   "execution_count": 184,
   "id": "a5421e79",
   "metadata": {},
   "outputs": [
    {
     "name": "stdout",
     "output_type": "stream",
     "text": [
      "1578\n",
      "['1', '5', '7', '8'] <class 'list'>\n",
      "1 5 7 8 "
     ]
    }
   ],
   "source": [
    "k = list(input())\n",
    "print(k,type(k))\n",
    "b = []\n",
    "for j in range(len(k)):\n",
    "    b.append(int(k[j]))\n",
    "for v in b:\n",
    "    print(v,end=\" \")"
   ]
  },
  {
   "cell_type": "code",
   "execution_count": null,
   "id": "2873ab5d",
   "metadata": {},
   "outputs": [],
   "source": []
  }
 ],
 "metadata": {
  "kernelspec": {
   "display_name": "Python 3",
   "language": "python",
   "name": "python3"
  },
  "language_info": {
   "codemirror_mode": {
    "name": "ipython",
    "version": 3
   },
   "file_extension": ".py",
   "mimetype": "text/x-python",
   "name": "python",
   "nbconvert_exporter": "python",
   "pygments_lexer": "ipython3",
   "version": "3.7.5"
  }
 },
 "nbformat": 4,
 "nbformat_minor": 5
}
